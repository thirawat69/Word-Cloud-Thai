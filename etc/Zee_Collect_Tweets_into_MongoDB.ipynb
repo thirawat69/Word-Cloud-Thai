{
 "cells": [
  {
   "cell_type": "markdown",
   "metadata": {},
   "source": [
    "# Collect Tweets into MongoDB"
   ]
  },
  {
   "cell_type": "markdown",
   "metadata": {},
   "source": [
    "## Install Python libraries\n",
    "\n",
    "You may need to restart your Jupyter Notebook instance after installed those libraries."
   ]
  },
  {
   "cell_type": "code",
   "execution_count": 1,
   "metadata": {
    "scrolled": true
   },
   "outputs": [
    {
     "name": "stdout",
     "output_type": "stream",
     "text": [
      "Requirement already satisfied: pymongo in c:\\users\\thirawat\\anaconda3\\lib\\site-packages (4.0.1)\n"
     ]
    }
   ],
   "source": [
    "!pip install pymongo"
   ]
  },
  {
   "cell_type": "code",
   "execution_count": 2,
   "metadata": {},
   "outputs": [
    {
     "name": "stdout",
     "output_type": "stream",
     "text": [
      "Requirement already satisfied: pymongo[srv] in c:\\users\\thirawat\\anaconda3\\lib\\site-packages (4.0.1)\n",
      "Requirement already satisfied: dnspython<3.0.0,>=1.16.0 in c:\\users\\thirawat\\anaconda3\\lib\\site-packages (from pymongo[srv]) (2.1.0)\n"
     ]
    }
   ],
   "source": [
    "!pip install pymongo[srv]"
   ]
  },
  {
   "cell_type": "code",
   "execution_count": 3,
   "metadata": {},
   "outputs": [
    {
     "name": "stdout",
     "output_type": "stream",
     "text": [
      "Requirement already satisfied: dnspython in c:\\users\\thirawat\\anaconda3\\lib\\site-packages (2.1.0)\n"
     ]
    }
   ],
   "source": [
    "!pip install dnspython"
   ]
  },
  {
   "cell_type": "code",
   "execution_count": 4,
   "metadata": {
    "scrolled": true
   },
   "outputs": [
    {
     "name": "stdout",
     "output_type": "stream",
     "text": [
      "Requirement already satisfied: tweepy in c:\\users\\thirawat\\anaconda3\\lib\\site-packages (3.10.0)\n",
      "Requirement already satisfied: six>=1.10.0 in c:\\users\\thirawat\\anaconda3\\lib\\site-packages (from tweepy) (1.16.0)\n",
      "Requirement already satisfied: requests-oauthlib>=0.7.0 in c:\\users\\thirawat\\anaconda3\\lib\\site-packages (from tweepy) (1.3.0)\n",
      "Requirement already satisfied: requests[socks]>=2.11.1 in c:\\users\\thirawat\\anaconda3\\lib\\site-packages (from tweepy) (2.26.0)\n",
      "Requirement already satisfied: oauthlib>=3.0.0 in c:\\users\\thirawat\\anaconda3\\lib\\site-packages (from requests-oauthlib>=0.7.0->tweepy) (3.1.1)\n",
      "Requirement already satisfied: urllib3<1.27,>=1.21.1 in c:\\users\\thirawat\\anaconda3\\lib\\site-packages (from requests[socks]>=2.11.1->tweepy) (1.26.7)\n",
      "Requirement already satisfied: certifi>=2017.4.17 in c:\\users\\thirawat\\anaconda3\\lib\\site-packages (from requests[socks]>=2.11.1->tweepy) (2021.10.8)\n",
      "Requirement already satisfied: idna<4,>=2.5 in c:\\users\\thirawat\\anaconda3\\lib\\site-packages (from requests[socks]>=2.11.1->tweepy) (3.3)\n",
      "Requirement already satisfied: charset-normalizer~=2.0.0 in c:\\users\\thirawat\\anaconda3\\lib\\site-packages (from requests[socks]>=2.11.1->tweepy) (2.0.9)\n",
      "Requirement already satisfied: PySocks!=1.5.7,>=1.5.6 in c:\\users\\thirawat\\anaconda3\\lib\\site-packages (from requests[socks]>=2.11.1->tweepy) (1.7.1)\n"
     ]
    }
   ],
   "source": [
    "!pip install tweepy"
   ]
  },
  {
   "cell_type": "code",
   "execution_count": 5,
   "metadata": {
    "scrolled": true
   },
   "outputs": [
    {
     "name": "stdout",
     "output_type": "stream",
     "text": [
      "Requirement already satisfied: twitter in c:\\users\\thirawat\\anaconda3\\lib\\site-packages (1.19.3)\n"
     ]
    }
   ],
   "source": [
    "!pip install twitter"
   ]
  },
  {
   "cell_type": "code",
   "execution_count": 6,
   "metadata": {},
   "outputs": [
    {
     "name": "stdout",
     "output_type": "stream",
     "text": [
      "Requirement already satisfied: certifi in c:\\users\\thirawat\\anaconda3\\lib\\site-packages (2021.10.8)\n",
      "Note: you may need to restart the kernel to use updated packages.\n"
     ]
    }
   ],
   "source": [
    "pip install certifi"
   ]
  },
  {
   "cell_type": "markdown",
   "metadata": {},
   "source": [
    "## Import Python libraries"
   ]
  },
  {
   "cell_type": "code",
   "execution_count": 1,
   "metadata": {},
   "outputs": [],
   "source": [
    "import pymongo\n",
    "from pymongo import MongoClient\n",
    "import json\n",
    "import tweepy\n",
    "import twitter\n",
    "from pprint import pprint\n",
    "import configparser\n",
    "import pandas as pd\n",
    "import certifi"
   ]
  },
  {
   "cell_type": "markdown",
   "metadata": {},
   "source": [
    "##  Load the Authorization Info"
   ]
  },
  {
   "cell_type": "markdown",
   "metadata": {},
   "source": [
    "Save database connection info and API Keys in a config.ini file and use the configparse to load the authorization info. "
   ]
  },
  {
   "cell_type": "code",
   "execution_count": 2,
   "metadata": {},
   "outputs": [],
   "source": [
    "config = configparser.ConfigParser()\n",
    "config.read('config.ini')\n",
    "\n",
    "CONSUMER_KEY      = config['mytwitter']['api_key']\n",
    "CONSUMER_SECRET   = config['mytwitter']['api_secrete']\n",
    "OAUTH_TOKEN       = config['mytwitter']['access_token']\n",
    "OATH_TOKEN_SECRET = config['mytwitter']['access_secrete']\n",
    "\n",
    "mongod_connect = config['mymongo']['connection']"
   ]
  },
  {
   "cell_type": "markdown",
   "metadata": {},
   "source": [
    "## Connect to the MongoDB Cluster"
   ]
  },
  {
   "cell_type": "code",
   "execution_count": 3,
   "metadata": {},
   "outputs": [
    {
     "data": {
      "text/plain": [
       "'id_1'"
      ]
     },
     "execution_count": 3,
     "metadata": {},
     "output_type": "execute_result"
    }
   ],
   "source": [
    "ca = certifi.where()\n",
    "client = MongoClient(mongod_connect , tlsCAFile=ca) # connect to mongo and fix SSL problem with tlsCAFile=ca\n",
    "db = client.Twitter # use or create a database named Twitter\n",
    "tweet_collection = db.tweet_collection #use or create a collection named tweet_collection\n",
    "tweet_collection.create_index([(\"id\", pymongo.ASCENDING)],unique = True) # make sure the collected tweets are unique"
   ]
  },
  {
   "cell_type": "markdown",
   "metadata": {},
   "source": [
    "## Use the Streaming API to Collect Tweets"
   ]
  },
  {
   "cell_type": "markdown",
   "metadata": {},
   "source": [
    "Authorize the Stream API "
   ]
  },
  {
   "cell_type": "code",
   "execution_count": 20,
   "metadata": {},
   "outputs": [],
   "source": [
    "stream_auth = tweepy.OAuthHandler(CONSUMER_KEY, CONSUMER_SECRET)\n",
    "stream_auth.set_access_token(OAUTH_TOKEN, OATH_TOKEN_SECRET)\n",
    "\n",
    "strem_api = tweepy.API(stream_auth)"
   ]
  },
  {
   "cell_type": "markdown",
   "metadata": {},
   "source": [
    "Define the query for the Stream API"
   ]
  },
  {
   "cell_type": "code",
   "execution_count": 14,
   "metadata": {},
   "outputs": [],
   "source": [
    "track = ['#ม็อบ12ธันวา64'] # define the keywords, tweets contain election\n",
    "\n",
    "# locations = [-78.9326449,38.4150904,-78.8816972,38.4450731] #defin the location, in Harrisonburg, VA"
   ]
  },
  {
   "cell_type": "markdown",
   "metadata": {},
   "source": [
    "The collected tweets will contain 'election' <span style=\"color:red;font-weight:bold\"> OR </span> are located in Harrisonburg, VA"
   ]
  },
  {
   "cell_type": "code",
   "execution_count": 15,
   "metadata": {
    "scrolled": true
   },
   "outputs": [
    {
     "name": "stdout",
     "output_type": "stream",
     "text": [
      "1470572249409220608\n",
      "1470572256887640064\n",
      "1470572277062201348\n",
      "1470572279910191108\n",
      "1470572300172890114\n",
      "1470572302806884353\n",
      "1470572307902984194\n",
      "1470572310734114818\n",
      "1470572315301662720\n",
      "1470572320108720131\n",
      "1470572321249558529\n",
      "1470572344355672069\n",
      "1470572345290989571\n",
      "1470572347266453506\n",
      "1470572347727880193\n",
      "1470572349103611905\n",
      "1470572356640796674\n",
      "1470572394834055180\n",
      "1470572394829860866\n",
      "1470572411468726277\n",
      "1470572428237500418\n",
      "1470572448592531461\n",
      "1470572449687162887\n",
      "1470572468775522304\n",
      "1470572471653134343\n",
      "1470572525965168640\n",
      "1470572531190943751\n",
      "1470572539239829507\n",
      "1470572553580150784\n",
      "1470572571871514633\n",
      "1470572575851876356\n",
      "1470572581992349698\n",
      "1470572584815058946\n",
      "1470572588124364801\n",
      "1470572616008171520\n",
      "1470572634316308480\n"
     ]
    },
    {
     "ename": "KeyboardInterrupt",
     "evalue": "",
     "output_type": "error",
     "traceback": [
      "\u001b[1;31m---------------------------------------------------------------------------\u001b[0m",
      "\u001b[1;31mKeyboardInterrupt\u001b[0m                         Traceback (most recent call last)",
      "\u001b[1;32m<ipython-input-15-11bc45f21258>\u001b[0m in \u001b[0;36m<module>\u001b[1;34m\u001b[0m\n\u001b[0;32m     13\u001b[0m \u001b[0mmyStreamListener\u001b[0m \u001b[1;33m=\u001b[0m \u001b[0mMyStreamListener\u001b[0m\u001b[1;33m(\u001b[0m\u001b[1;33m)\u001b[0m\u001b[1;33m\u001b[0m\u001b[1;33m\u001b[0m\u001b[0m\n\u001b[0;32m     14\u001b[0m \u001b[0mmyStream\u001b[0m \u001b[1;33m=\u001b[0m \u001b[0mtweepy\u001b[0m\u001b[1;33m.\u001b[0m\u001b[0mStream\u001b[0m\u001b[1;33m(\u001b[0m\u001b[0mauth\u001b[0m \u001b[1;33m=\u001b[0m \u001b[0mstrem_api\u001b[0m\u001b[1;33m.\u001b[0m\u001b[0mauth\u001b[0m\u001b[1;33m,\u001b[0m \u001b[0mlistener\u001b[0m\u001b[1;33m=\u001b[0m\u001b[0mmyStreamListener\u001b[0m\u001b[1;33m)\u001b[0m\u001b[1;33m\u001b[0m\u001b[1;33m\u001b[0m\u001b[0m\n\u001b[1;32m---> 15\u001b[1;33m \u001b[0mmyStream\u001b[0m\u001b[1;33m.\u001b[0m\u001b[0mfilter\u001b[0m\u001b[1;33m(\u001b[0m\u001b[0mtrack\u001b[0m\u001b[1;33m=\u001b[0m\u001b[0mtrack\u001b[0m\u001b[1;33m)\u001b[0m\u001b[1;31m#  (locations = locations)   #Use either track or locations\u001b[0m\u001b[1;33m\u001b[0m\u001b[1;33m\u001b[0m\u001b[0m\n\u001b[0m",
      "\u001b[1;32m~\\anaconda3\\lib\\site-packages\\tweepy\\streaming.py\u001b[0m in \u001b[0;36mfilter\u001b[1;34m(self, follow, track, is_async, locations, stall_warnings, languages, encoding, filter_level)\u001b[0m\n\u001b[0;32m    472\u001b[0m             \u001b[0mself\u001b[0m\u001b[1;33m.\u001b[0m\u001b[0mbody\u001b[0m\u001b[1;33m[\u001b[0m\u001b[1;34m'filter_level'\u001b[0m\u001b[1;33m]\u001b[0m \u001b[1;33m=\u001b[0m \u001b[0mfilter_level\u001b[0m\u001b[1;33m.\u001b[0m\u001b[0mencode\u001b[0m\u001b[1;33m(\u001b[0m\u001b[0mencoding\u001b[0m\u001b[1;33m)\u001b[0m\u001b[1;33m\u001b[0m\u001b[1;33m\u001b[0m\u001b[0m\n\u001b[0;32m    473\u001b[0m         \u001b[0mself\u001b[0m\u001b[1;33m.\u001b[0m\u001b[0msession\u001b[0m\u001b[1;33m.\u001b[0m\u001b[0mparams\u001b[0m \u001b[1;33m=\u001b[0m \u001b[1;33m{\u001b[0m\u001b[1;34m'delimited'\u001b[0m\u001b[1;33m:\u001b[0m \u001b[1;34m'length'\u001b[0m\u001b[1;33m}\u001b[0m\u001b[1;33m\u001b[0m\u001b[1;33m\u001b[0m\u001b[0m\n\u001b[1;32m--> 474\u001b[1;33m         \u001b[0mself\u001b[0m\u001b[1;33m.\u001b[0m\u001b[0m_start\u001b[0m\u001b[1;33m(\u001b[0m\u001b[0mis_async\u001b[0m\u001b[1;33m)\u001b[0m\u001b[1;33m\u001b[0m\u001b[1;33m\u001b[0m\u001b[0m\n\u001b[0m\u001b[0;32m    475\u001b[0m \u001b[1;33m\u001b[0m\u001b[0m\n\u001b[0;32m    476\u001b[0m     def sitestream(self, follow, stall_warnings=False,\n",
      "\u001b[1;32m~\\anaconda3\\lib\\site-packages\\tweepy\\streaming.py\u001b[0m in \u001b[0;36m_start\u001b[1;34m(self, is_async)\u001b[0m\n\u001b[0;32m    387\u001b[0m             \u001b[0mself\u001b[0m\u001b[1;33m.\u001b[0m\u001b[0m_thread\u001b[0m\u001b[1;33m.\u001b[0m\u001b[0mstart\u001b[0m\u001b[1;33m(\u001b[0m\u001b[1;33m)\u001b[0m\u001b[1;33m\u001b[0m\u001b[1;33m\u001b[0m\u001b[0m\n\u001b[0;32m    388\u001b[0m         \u001b[1;32melse\u001b[0m\u001b[1;33m:\u001b[0m\u001b[1;33m\u001b[0m\u001b[1;33m\u001b[0m\u001b[0m\n\u001b[1;32m--> 389\u001b[1;33m             \u001b[0mself\u001b[0m\u001b[1;33m.\u001b[0m\u001b[0m_run\u001b[0m\u001b[1;33m(\u001b[0m\u001b[1;33m)\u001b[0m\u001b[1;33m\u001b[0m\u001b[1;33m\u001b[0m\u001b[0m\n\u001b[0m\u001b[0;32m    390\u001b[0m \u001b[1;33m\u001b[0m\u001b[0m\n\u001b[0;32m    391\u001b[0m     \u001b[1;32mdef\u001b[0m \u001b[0mon_closed\u001b[0m\u001b[1;33m(\u001b[0m\u001b[0mself\u001b[0m\u001b[1;33m,\u001b[0m \u001b[0mresp\u001b[0m\u001b[1;33m)\u001b[0m\u001b[1;33m:\u001b[0m\u001b[1;33m\u001b[0m\u001b[1;33m\u001b[0m\u001b[0m\n",
      "\u001b[1;32m~\\anaconda3\\lib\\site-packages\\tweepy\\streaming.py\u001b[0m in \u001b[0;36m_run\u001b[1;34m(self)\u001b[0m\n\u001b[0;32m    287\u001b[0m                     \u001b[0mself\u001b[0m\u001b[1;33m.\u001b[0m\u001b[0msnooze_time\u001b[0m \u001b[1;33m=\u001b[0m \u001b[0mself\u001b[0m\u001b[1;33m.\u001b[0m\u001b[0msnooze_time_step\u001b[0m\u001b[1;33m\u001b[0m\u001b[1;33m\u001b[0m\u001b[0m\n\u001b[0;32m    288\u001b[0m                     \u001b[0mself\u001b[0m\u001b[1;33m.\u001b[0m\u001b[0mlistener\u001b[0m\u001b[1;33m.\u001b[0m\u001b[0mon_connect\u001b[0m\u001b[1;33m(\u001b[0m\u001b[1;33m)\u001b[0m\u001b[1;33m\u001b[0m\u001b[1;33m\u001b[0m\u001b[0m\n\u001b[1;32m--> 289\u001b[1;33m                     \u001b[0mself\u001b[0m\u001b[1;33m.\u001b[0m\u001b[0m_read_loop\u001b[0m\u001b[1;33m(\u001b[0m\u001b[0mresp\u001b[0m\u001b[1;33m)\u001b[0m\u001b[1;33m\u001b[0m\u001b[1;33m\u001b[0m\u001b[0m\n\u001b[0m\u001b[0;32m    290\u001b[0m             \u001b[1;32mexcept\u001b[0m \u001b[1;33m(\u001b[0m\u001b[0mTimeout\u001b[0m\u001b[1;33m,\u001b[0m \u001b[0mssl\u001b[0m\u001b[1;33m.\u001b[0m\u001b[0mSSLError\u001b[0m\u001b[1;33m)\u001b[0m \u001b[1;32mas\u001b[0m \u001b[0mexc\u001b[0m\u001b[1;33m:\u001b[0m\u001b[1;33m\u001b[0m\u001b[1;33m\u001b[0m\u001b[0m\n\u001b[0;32m    291\u001b[0m                 \u001b[1;31m# This is still necessary, as a SSLError can actually be\u001b[0m\u001b[1;33m\u001b[0m\u001b[1;33m\u001b[0m\u001b[1;33m\u001b[0m\u001b[0m\n",
      "\u001b[1;32m~\\anaconda3\\lib\\site-packages\\tweepy\\streaming.py\u001b[0m in \u001b[0;36m_read_loop\u001b[1;34m(self, resp)\u001b[0m\n\u001b[0;32m    337\u001b[0m             \u001b[0mlength\u001b[0m \u001b[1;33m=\u001b[0m \u001b[1;36m0\u001b[0m\u001b[1;33m\u001b[0m\u001b[1;33m\u001b[0m\u001b[0m\n\u001b[0;32m    338\u001b[0m             \u001b[1;32mwhile\u001b[0m \u001b[1;32mnot\u001b[0m \u001b[0mresp\u001b[0m\u001b[1;33m.\u001b[0m\u001b[0mraw\u001b[0m\u001b[1;33m.\u001b[0m\u001b[0mclosed\u001b[0m\u001b[1;33m:\u001b[0m\u001b[1;33m\u001b[0m\u001b[1;33m\u001b[0m\u001b[0m\n\u001b[1;32m--> 339\u001b[1;33m                 \u001b[0mline\u001b[0m \u001b[1;33m=\u001b[0m \u001b[0mbuf\u001b[0m\u001b[1;33m.\u001b[0m\u001b[0mread_line\u001b[0m\u001b[1;33m(\u001b[0m\u001b[1;33m)\u001b[0m\u001b[1;33m\u001b[0m\u001b[1;33m\u001b[0m\u001b[0m\n\u001b[0m\u001b[0;32m    340\u001b[0m                 \u001b[0mstripped_line\u001b[0m \u001b[1;33m=\u001b[0m \u001b[0mline\u001b[0m\u001b[1;33m.\u001b[0m\u001b[0mstrip\u001b[0m\u001b[1;33m(\u001b[0m\u001b[1;33m)\u001b[0m \u001b[1;32mif\u001b[0m \u001b[0mline\u001b[0m \u001b[1;32melse\u001b[0m \u001b[0mline\u001b[0m \u001b[1;31m# line is sometimes None so we need to check here\u001b[0m\u001b[1;33m\u001b[0m\u001b[1;33m\u001b[0m\u001b[0m\n\u001b[0;32m    341\u001b[0m                 \u001b[1;32mif\u001b[0m \u001b[1;32mnot\u001b[0m \u001b[0mstripped_line\u001b[0m\u001b[1;33m:\u001b[0m\u001b[1;33m\u001b[0m\u001b[1;33m\u001b[0m\u001b[0m\n",
      "\u001b[1;32m~\\anaconda3\\lib\\site-packages\\tweepy\\streaming.py\u001b[0m in \u001b[0;36mread_line\u001b[1;34m(self, sep)\u001b[0m\n\u001b[0;32m    198\u001b[0m             \u001b[1;32melse\u001b[0m\u001b[1;33m:\u001b[0m\u001b[1;33m\u001b[0m\u001b[1;33m\u001b[0m\u001b[0m\n\u001b[0;32m    199\u001b[0m                 \u001b[0mstart\u001b[0m \u001b[1;33m=\u001b[0m \u001b[0mlen\u001b[0m\u001b[1;33m(\u001b[0m\u001b[0mself\u001b[0m\u001b[1;33m.\u001b[0m\u001b[0m_buffer\u001b[0m\u001b[1;33m)\u001b[0m\u001b[1;33m\u001b[0m\u001b[1;33m\u001b[0m\u001b[0m\n\u001b[1;32m--> 200\u001b[1;33m             \u001b[0mself\u001b[0m\u001b[1;33m.\u001b[0m\u001b[0m_buffer\u001b[0m \u001b[1;33m+=\u001b[0m \u001b[0mself\u001b[0m\u001b[1;33m.\u001b[0m\u001b[0m_stream\u001b[0m\u001b[1;33m.\u001b[0m\u001b[0mread\u001b[0m\u001b[1;33m(\u001b[0m\u001b[0mself\u001b[0m\u001b[1;33m.\u001b[0m\u001b[0m_chunk_size\u001b[0m\u001b[1;33m)\u001b[0m\u001b[1;33m\u001b[0m\u001b[1;33m\u001b[0m\u001b[0m\n\u001b[0m\u001b[0;32m    201\u001b[0m         \u001b[1;32mreturn\u001b[0m \u001b[0msix\u001b[0m\u001b[1;33m.\u001b[0m\u001b[0mb\u001b[0m\u001b[1;33m(\u001b[0m\u001b[1;34m''\u001b[0m\u001b[1;33m)\u001b[0m\u001b[1;33m\u001b[0m\u001b[1;33m\u001b[0m\u001b[0m\n\u001b[0;32m    202\u001b[0m \u001b[1;33m\u001b[0m\u001b[0m\n",
      "\u001b[1;32m~\\anaconda3\\lib\\site-packages\\urllib3\\response.py\u001b[0m in \u001b[0;36mread\u001b[1;34m(self, amt, decode_content, cache_content)\u001b[0m\n\u001b[0;32m    517\u001b[0m             \u001b[1;32melse\u001b[0m\u001b[1;33m:\u001b[0m\u001b[1;33m\u001b[0m\u001b[1;33m\u001b[0m\u001b[0m\n\u001b[0;32m    518\u001b[0m                 \u001b[0mcache_content\u001b[0m \u001b[1;33m=\u001b[0m \u001b[1;32mFalse\u001b[0m\u001b[1;33m\u001b[0m\u001b[1;33m\u001b[0m\u001b[0m\n\u001b[1;32m--> 519\u001b[1;33m                 \u001b[0mdata\u001b[0m \u001b[1;33m=\u001b[0m \u001b[0mself\u001b[0m\u001b[1;33m.\u001b[0m\u001b[0m_fp\u001b[0m\u001b[1;33m.\u001b[0m\u001b[0mread\u001b[0m\u001b[1;33m(\u001b[0m\u001b[0mamt\u001b[0m\u001b[1;33m)\u001b[0m \u001b[1;32mif\u001b[0m \u001b[1;32mnot\u001b[0m \u001b[0mfp_closed\u001b[0m \u001b[1;32melse\u001b[0m \u001b[1;34mb\"\"\u001b[0m\u001b[1;33m\u001b[0m\u001b[1;33m\u001b[0m\u001b[0m\n\u001b[0m\u001b[0;32m    520\u001b[0m                 if (\n\u001b[0;32m    521\u001b[0m                     \u001b[0mamt\u001b[0m \u001b[1;33m!=\u001b[0m \u001b[1;36m0\u001b[0m \u001b[1;32mand\u001b[0m \u001b[1;32mnot\u001b[0m \u001b[0mdata\u001b[0m\u001b[1;33m\u001b[0m\u001b[1;33m\u001b[0m\u001b[0m\n",
      "\u001b[1;32m~\\anaconda3\\lib\\http\\client.py\u001b[0m in \u001b[0;36mread\u001b[1;34m(self, amt)\u001b[0m\n\u001b[0;32m    456\u001b[0m             \u001b[1;31m# Amount is given, implement using readinto\u001b[0m\u001b[1;33m\u001b[0m\u001b[1;33m\u001b[0m\u001b[1;33m\u001b[0m\u001b[0m\n\u001b[0;32m    457\u001b[0m             \u001b[0mb\u001b[0m \u001b[1;33m=\u001b[0m \u001b[0mbytearray\u001b[0m\u001b[1;33m(\u001b[0m\u001b[0mamt\u001b[0m\u001b[1;33m)\u001b[0m\u001b[1;33m\u001b[0m\u001b[1;33m\u001b[0m\u001b[0m\n\u001b[1;32m--> 458\u001b[1;33m             \u001b[0mn\u001b[0m \u001b[1;33m=\u001b[0m \u001b[0mself\u001b[0m\u001b[1;33m.\u001b[0m\u001b[0mreadinto\u001b[0m\u001b[1;33m(\u001b[0m\u001b[0mb\u001b[0m\u001b[1;33m)\u001b[0m\u001b[1;33m\u001b[0m\u001b[1;33m\u001b[0m\u001b[0m\n\u001b[0m\u001b[0;32m    459\u001b[0m             \u001b[1;32mreturn\u001b[0m \u001b[0mmemoryview\u001b[0m\u001b[1;33m(\u001b[0m\u001b[0mb\u001b[0m\u001b[1;33m)\u001b[0m\u001b[1;33m[\u001b[0m\u001b[1;33m:\u001b[0m\u001b[0mn\u001b[0m\u001b[1;33m]\u001b[0m\u001b[1;33m.\u001b[0m\u001b[0mtobytes\u001b[0m\u001b[1;33m(\u001b[0m\u001b[1;33m)\u001b[0m\u001b[1;33m\u001b[0m\u001b[1;33m\u001b[0m\u001b[0m\n\u001b[0;32m    460\u001b[0m         \u001b[1;32melse\u001b[0m\u001b[1;33m:\u001b[0m\u001b[1;33m\u001b[0m\u001b[1;33m\u001b[0m\u001b[0m\n",
      "\u001b[1;32m~\\anaconda3\\lib\\http\\client.py\u001b[0m in \u001b[0;36mreadinto\u001b[1;34m(self, b)\u001b[0m\n\u001b[0;32m    490\u001b[0m \u001b[1;33m\u001b[0m\u001b[0m\n\u001b[0;32m    491\u001b[0m         \u001b[1;32mif\u001b[0m \u001b[0mself\u001b[0m\u001b[1;33m.\u001b[0m\u001b[0mchunked\u001b[0m\u001b[1;33m:\u001b[0m\u001b[1;33m\u001b[0m\u001b[1;33m\u001b[0m\u001b[0m\n\u001b[1;32m--> 492\u001b[1;33m             \u001b[1;32mreturn\u001b[0m \u001b[0mself\u001b[0m\u001b[1;33m.\u001b[0m\u001b[0m_readinto_chunked\u001b[0m\u001b[1;33m(\u001b[0m\u001b[0mb\u001b[0m\u001b[1;33m)\u001b[0m\u001b[1;33m\u001b[0m\u001b[1;33m\u001b[0m\u001b[0m\n\u001b[0m\u001b[0;32m    493\u001b[0m \u001b[1;33m\u001b[0m\u001b[0m\n\u001b[0;32m    494\u001b[0m         \u001b[1;32mif\u001b[0m \u001b[0mself\u001b[0m\u001b[1;33m.\u001b[0m\u001b[0mlength\u001b[0m \u001b[1;32mis\u001b[0m \u001b[1;32mnot\u001b[0m \u001b[1;32mNone\u001b[0m\u001b[1;33m:\u001b[0m\u001b[1;33m\u001b[0m\u001b[1;33m\u001b[0m\u001b[0m\n",
      "\u001b[1;32m~\\anaconda3\\lib\\http\\client.py\u001b[0m in \u001b[0;36m_readinto_chunked\u001b[1;34m(self, b)\u001b[0m\n\u001b[0;32m    585\u001b[0m         \u001b[1;32mtry\u001b[0m\u001b[1;33m:\u001b[0m\u001b[1;33m\u001b[0m\u001b[1;33m\u001b[0m\u001b[0m\n\u001b[0;32m    586\u001b[0m             \u001b[1;32mwhile\u001b[0m \u001b[1;32mTrue\u001b[0m\u001b[1;33m:\u001b[0m\u001b[1;33m\u001b[0m\u001b[1;33m\u001b[0m\u001b[0m\n\u001b[1;32m--> 587\u001b[1;33m                 \u001b[0mchunk_left\u001b[0m \u001b[1;33m=\u001b[0m \u001b[0mself\u001b[0m\u001b[1;33m.\u001b[0m\u001b[0m_get_chunk_left\u001b[0m\u001b[1;33m(\u001b[0m\u001b[1;33m)\u001b[0m\u001b[1;33m\u001b[0m\u001b[1;33m\u001b[0m\u001b[0m\n\u001b[0m\u001b[0;32m    588\u001b[0m                 \u001b[1;32mif\u001b[0m \u001b[0mchunk_left\u001b[0m \u001b[1;32mis\u001b[0m \u001b[1;32mNone\u001b[0m\u001b[1;33m:\u001b[0m\u001b[1;33m\u001b[0m\u001b[1;33m\u001b[0m\u001b[0m\n\u001b[0;32m    589\u001b[0m                     \u001b[1;32mreturn\u001b[0m \u001b[0mtotal_bytes\u001b[0m\u001b[1;33m\u001b[0m\u001b[1;33m\u001b[0m\u001b[0m\n",
      "\u001b[1;32m~\\anaconda3\\lib\\http\\client.py\u001b[0m in \u001b[0;36m_get_chunk_left\u001b[1;34m(self)\u001b[0m\n\u001b[0;32m    553\u001b[0m                 \u001b[0mself\u001b[0m\u001b[1;33m.\u001b[0m\u001b[0m_safe_read\u001b[0m\u001b[1;33m(\u001b[0m\u001b[1;36m2\u001b[0m\u001b[1;33m)\u001b[0m  \u001b[1;31m# toss the CRLF at the end of the chunk\u001b[0m\u001b[1;33m\u001b[0m\u001b[1;33m\u001b[0m\u001b[0m\n\u001b[0;32m    554\u001b[0m             \u001b[1;32mtry\u001b[0m\u001b[1;33m:\u001b[0m\u001b[1;33m\u001b[0m\u001b[1;33m\u001b[0m\u001b[0m\n\u001b[1;32m--> 555\u001b[1;33m                 \u001b[0mchunk_left\u001b[0m \u001b[1;33m=\u001b[0m \u001b[0mself\u001b[0m\u001b[1;33m.\u001b[0m\u001b[0m_read_next_chunk_size\u001b[0m\u001b[1;33m(\u001b[0m\u001b[1;33m)\u001b[0m\u001b[1;33m\u001b[0m\u001b[1;33m\u001b[0m\u001b[0m\n\u001b[0m\u001b[0;32m    556\u001b[0m             \u001b[1;32mexcept\u001b[0m \u001b[0mValueError\u001b[0m\u001b[1;33m:\u001b[0m\u001b[1;33m\u001b[0m\u001b[1;33m\u001b[0m\u001b[0m\n\u001b[0;32m    557\u001b[0m                 \u001b[1;32mraise\u001b[0m \u001b[0mIncompleteRead\u001b[0m\u001b[1;33m(\u001b[0m\u001b[1;34mb''\u001b[0m\u001b[1;33m)\u001b[0m\u001b[1;33m\u001b[0m\u001b[1;33m\u001b[0m\u001b[0m\n",
      "\u001b[1;32m~\\anaconda3\\lib\\http\\client.py\u001b[0m in \u001b[0;36m_read_next_chunk_size\u001b[1;34m(self)\u001b[0m\n\u001b[0;32m    513\u001b[0m     \u001b[1;32mdef\u001b[0m \u001b[0m_read_next_chunk_size\u001b[0m\u001b[1;33m(\u001b[0m\u001b[0mself\u001b[0m\u001b[1;33m)\u001b[0m\u001b[1;33m:\u001b[0m\u001b[1;33m\u001b[0m\u001b[1;33m\u001b[0m\u001b[0m\n\u001b[0;32m    514\u001b[0m         \u001b[1;31m# Read the next chunk size from the file\u001b[0m\u001b[1;33m\u001b[0m\u001b[1;33m\u001b[0m\u001b[1;33m\u001b[0m\u001b[0m\n\u001b[1;32m--> 515\u001b[1;33m         \u001b[0mline\u001b[0m \u001b[1;33m=\u001b[0m \u001b[0mself\u001b[0m\u001b[1;33m.\u001b[0m\u001b[0mfp\u001b[0m\u001b[1;33m.\u001b[0m\u001b[0mreadline\u001b[0m\u001b[1;33m(\u001b[0m\u001b[0m_MAXLINE\u001b[0m \u001b[1;33m+\u001b[0m \u001b[1;36m1\u001b[0m\u001b[1;33m)\u001b[0m\u001b[1;33m\u001b[0m\u001b[1;33m\u001b[0m\u001b[0m\n\u001b[0m\u001b[0;32m    516\u001b[0m         \u001b[1;32mif\u001b[0m \u001b[0mlen\u001b[0m\u001b[1;33m(\u001b[0m\u001b[0mline\u001b[0m\u001b[1;33m)\u001b[0m \u001b[1;33m>\u001b[0m \u001b[0m_MAXLINE\u001b[0m\u001b[1;33m:\u001b[0m\u001b[1;33m\u001b[0m\u001b[1;33m\u001b[0m\u001b[0m\n\u001b[0;32m    517\u001b[0m             \u001b[1;32mraise\u001b[0m \u001b[0mLineTooLong\u001b[0m\u001b[1;33m(\u001b[0m\u001b[1;34m\"chunk size\"\u001b[0m\u001b[1;33m)\u001b[0m\u001b[1;33m\u001b[0m\u001b[1;33m\u001b[0m\u001b[0m\n",
      "\u001b[1;32m~\\anaconda3\\lib\\socket.py\u001b[0m in \u001b[0;36mreadinto\u001b[1;34m(self, b)\u001b[0m\n\u001b[0;32m    667\u001b[0m         \u001b[1;32mwhile\u001b[0m \u001b[1;32mTrue\u001b[0m\u001b[1;33m:\u001b[0m\u001b[1;33m\u001b[0m\u001b[1;33m\u001b[0m\u001b[0m\n\u001b[0;32m    668\u001b[0m             \u001b[1;32mtry\u001b[0m\u001b[1;33m:\u001b[0m\u001b[1;33m\u001b[0m\u001b[1;33m\u001b[0m\u001b[0m\n\u001b[1;32m--> 669\u001b[1;33m                 \u001b[1;32mreturn\u001b[0m \u001b[0mself\u001b[0m\u001b[1;33m.\u001b[0m\u001b[0m_sock\u001b[0m\u001b[1;33m.\u001b[0m\u001b[0mrecv_into\u001b[0m\u001b[1;33m(\u001b[0m\u001b[0mb\u001b[0m\u001b[1;33m)\u001b[0m\u001b[1;33m\u001b[0m\u001b[1;33m\u001b[0m\u001b[0m\n\u001b[0m\u001b[0;32m    670\u001b[0m             \u001b[1;32mexcept\u001b[0m \u001b[0mtimeout\u001b[0m\u001b[1;33m:\u001b[0m\u001b[1;33m\u001b[0m\u001b[1;33m\u001b[0m\u001b[0m\n\u001b[0;32m    671\u001b[0m                 \u001b[0mself\u001b[0m\u001b[1;33m.\u001b[0m\u001b[0m_timeout_occurred\u001b[0m \u001b[1;33m=\u001b[0m \u001b[1;32mTrue\u001b[0m\u001b[1;33m\u001b[0m\u001b[1;33m\u001b[0m\u001b[0m\n",
      "\u001b[1;32m~\\anaconda3\\lib\\ssl.py\u001b[0m in \u001b[0;36mrecv_into\u001b[1;34m(self, buffer, nbytes, flags)\u001b[0m\n\u001b[0;32m   1239\u001b[0m                   \u001b[1;34m\"non-zero flags not allowed in calls to recv_into() on %s\"\u001b[0m \u001b[1;33m%\u001b[0m\u001b[1;33m\u001b[0m\u001b[1;33m\u001b[0m\u001b[0m\n\u001b[0;32m   1240\u001b[0m                   self.__class__)\n\u001b[1;32m-> 1241\u001b[1;33m             \u001b[1;32mreturn\u001b[0m \u001b[0mself\u001b[0m\u001b[1;33m.\u001b[0m\u001b[0mread\u001b[0m\u001b[1;33m(\u001b[0m\u001b[0mnbytes\u001b[0m\u001b[1;33m,\u001b[0m \u001b[0mbuffer\u001b[0m\u001b[1;33m)\u001b[0m\u001b[1;33m\u001b[0m\u001b[1;33m\u001b[0m\u001b[0m\n\u001b[0m\u001b[0;32m   1242\u001b[0m         \u001b[1;32melse\u001b[0m\u001b[1;33m:\u001b[0m\u001b[1;33m\u001b[0m\u001b[1;33m\u001b[0m\u001b[0m\n\u001b[0;32m   1243\u001b[0m             \u001b[1;32mreturn\u001b[0m \u001b[0msuper\u001b[0m\u001b[1;33m(\u001b[0m\u001b[1;33m)\u001b[0m\u001b[1;33m.\u001b[0m\u001b[0mrecv_into\u001b[0m\u001b[1;33m(\u001b[0m\u001b[0mbuffer\u001b[0m\u001b[1;33m,\u001b[0m \u001b[0mnbytes\u001b[0m\u001b[1;33m,\u001b[0m \u001b[0mflags\u001b[0m\u001b[1;33m)\u001b[0m\u001b[1;33m\u001b[0m\u001b[1;33m\u001b[0m\u001b[0m\n",
      "\u001b[1;32m~\\anaconda3\\lib\\ssl.py\u001b[0m in \u001b[0;36mread\u001b[1;34m(self, len, buffer)\u001b[0m\n\u001b[0;32m   1097\u001b[0m         \u001b[1;32mtry\u001b[0m\u001b[1;33m:\u001b[0m\u001b[1;33m\u001b[0m\u001b[1;33m\u001b[0m\u001b[0m\n\u001b[0;32m   1098\u001b[0m             \u001b[1;32mif\u001b[0m \u001b[0mbuffer\u001b[0m \u001b[1;32mis\u001b[0m \u001b[1;32mnot\u001b[0m \u001b[1;32mNone\u001b[0m\u001b[1;33m:\u001b[0m\u001b[1;33m\u001b[0m\u001b[1;33m\u001b[0m\u001b[0m\n\u001b[1;32m-> 1099\u001b[1;33m                 \u001b[1;32mreturn\u001b[0m \u001b[0mself\u001b[0m\u001b[1;33m.\u001b[0m\u001b[0m_sslobj\u001b[0m\u001b[1;33m.\u001b[0m\u001b[0mread\u001b[0m\u001b[1;33m(\u001b[0m\u001b[0mlen\u001b[0m\u001b[1;33m,\u001b[0m \u001b[0mbuffer\u001b[0m\u001b[1;33m)\u001b[0m\u001b[1;33m\u001b[0m\u001b[1;33m\u001b[0m\u001b[0m\n\u001b[0m\u001b[0;32m   1100\u001b[0m             \u001b[1;32melse\u001b[0m\u001b[1;33m:\u001b[0m\u001b[1;33m\u001b[0m\u001b[1;33m\u001b[0m\u001b[0m\n\u001b[0;32m   1101\u001b[0m                 \u001b[1;32mreturn\u001b[0m \u001b[0mself\u001b[0m\u001b[1;33m.\u001b[0m\u001b[0m_sslobj\u001b[0m\u001b[1;33m.\u001b[0m\u001b[0mread\u001b[0m\u001b[1;33m(\u001b[0m\u001b[0mlen\u001b[0m\u001b[1;33m)\u001b[0m\u001b[1;33m\u001b[0m\u001b[1;33m\u001b[0m\u001b[0m\n",
      "\u001b[1;31mKeyboardInterrupt\u001b[0m: "
     ]
    }
   ],
   "source": [
    "class MyStreamListener(tweepy.StreamListener):\n",
    "    def on_status(self, status):\n",
    "        print (status.id_str)\n",
    "        try:\n",
    "            tweet_collection.insert_one(status._json)\n",
    "        except:\n",
    "            pass\n",
    "  \n",
    "    def on_error(self, status_code):\n",
    "        if status_code == 420:\n",
    "            #returning False in on_data disconnects the stream\n",
    "            return False\n",
    "        \n",
    "myStreamListener = MyStreamListener()\n",
    "myStream = tweepy.Stream(auth = strem_api.auth, listener=myStreamListener)\n",
    "myStream.filter(track=track)#  (locations = locations)   #Use either track or locations"
   ]
  },
  {
   "cell_type": "markdown",
   "metadata": {},
   "source": [
    "## Use the REST API to Collect Tweets"
   ]
  },
  {
   "cell_type": "markdown",
   "metadata": {},
   "source": [
    "Authorize the REST API "
   ]
  },
  {
   "cell_type": "code",
   "execution_count": 4,
   "metadata": {},
   "outputs": [],
   "source": [
    "rest_auth = twitter.oauth.OAuth(OAUTH_TOKEN,OATH_TOKEN_SECRET,CONSUMER_KEY,CONSUMER_SECRET)\n",
    "rest_api = twitter.Twitter(auth=rest_auth)"
   ]
  },
  {
   "cell_type": "markdown",
   "metadata": {},
   "source": [
    "Define the query for the REST API"
   ]
  },
  {
   "cell_type": "code",
   "execution_count": 5,
   "metadata": {},
   "outputs": [],
   "source": [
    "count = 10 #number of returned tweets, default and max is 100\n",
    "geocode = \"38.4392897,-78.9412224,50mi\"  # defin the location, in Harrisonburg, VA\n",
    "q = \"#ผู้ว่ากทม\"                            #define the keywords, tweets contain election"
   ]
  },
  {
   "cell_type": "markdown",
   "metadata": {},
   "source": [
    "The collected tweets will contain '#ผู้ว่ากทม' <span style=\"color:red;font-weight:bold\"> AND </span> are located in Harrisonburg, VA"
   ]
  },
  {
   "cell_type": "code",
   "execution_count": 27,
   "metadata": {
    "scrolled": false
   },
   "outputs": [
    {
     "name": "stdout",
     "output_type": "stream",
     "text": [
      "Tue Dec 14 15:12:36 +0000 2021\n",
      "1470773727017291786\n",
      "Tue Dec 14 15:12:36 +0000 2021\n",
      "1470773724920037376\n",
      "Tue Dec 14 15:12:35 +0000 2021\n",
      "1470773721623412739\n",
      "Tue Dec 14 15:12:34 +0000 2021\n",
      "1470773718557532160\n",
      "Tue Dec 14 15:12:32 +0000 2021\n",
      "1470773710659493897\n",
      "Tue Dec 14 15:12:32 +0000 2021\n",
      "1470773708272906247\n",
      "Tue Dec 14 15:12:31 +0000 2021\n",
      "1470773705328541713\n",
      "Tue Dec 14 15:12:31 +0000 2021\n",
      "1470773704468619264\n",
      "Tue Dec 14 15:12:30 +0000 2021\n",
      "1470773701918482446\n",
      "Tue Dec 14 15:12:30 +0000 2021\n",
      "1470773699531915264\n",
      "Tue Dec 14 15:12:28 +0000 2021\n",
      "1470773693311766543\n",
      "Tue Dec 14 15:12:28 +0000 2021\n",
      "1470773693299240966\n",
      "Tue Dec 14 15:12:28 +0000 2021\n",
      "1470773693236359170\n",
      "Tue Dec 14 15:12:25 +0000 2021\n",
      "1470773677797036037\n",
      "Tue Dec 14 15:12:24 +0000 2021\n",
      "1470773676698226696\n",
      "Tue Dec 14 15:12:24 +0000 2021\n",
      "1470773676022902789\n",
      "Tue Dec 14 15:12:22 +0000 2021\n",
      "1470773668737388551\n",
      "Tue Dec 14 15:12:21 +0000 2021\n",
      "1470773663192567809\n",
      "Tue Dec 14 15:12:20 +0000 2021\n",
      "1470773660147462145\n",
      "Tue Dec 14 15:12:20 +0000 2021\n",
      "1470773657156915213\n",
      "Tue Dec 14 15:12:19 +0000 2021\n",
      "1470773655827369986\n",
      "Tue Dec 14 15:12:15 +0000 2021\n",
      "1470773638790107145\n",
      "Tue Dec 14 15:12:15 +0000 2021\n",
      "1470773638165307395\n",
      "Tue Dec 14 15:12:15 +0000 2021\n",
      "1470773637309472774\n",
      "Tue Dec 14 15:12:13 +0000 2021\n",
      "1470773627452899329\n",
      "Tue Dec 14 15:12:12 +0000 2021\n",
      "1470773625435394054\n",
      "Tue Dec 14 15:12:10 +0000 2021\n",
      "1470773616065363974\n",
      "Tue Dec 14 15:12:10 +0000 2021\n",
      "1470773615889104905\n",
      "Tue Dec 14 15:12:09 +0000 2021\n",
      "1470773610751180803\n",
      "Tue Dec 14 15:12:08 +0000 2021\n",
      "1470773606477185024\n",
      "Tue Dec 14 15:12:07 +0000 2021\n",
      "1470773604962947081\n",
      "Tue Dec 14 15:12:04 +0000 2021\n",
      "1470773593424470020\n",
      "Tue Dec 14 15:12:02 +0000 2021\n",
      "1470773584733917192\n",
      "Tue Dec 14 15:12:02 +0000 2021\n",
      "1470773583047987200\n",
      "Tue Dec 14 15:12:01 +0000 2021\n",
      "1470773580493463557\n",
      "Tue Dec 14 15:12:01 +0000 2021\n",
      "1470773578526298114\n",
      "Tue Dec 14 15:12:01 +0000 2021\n",
      "1470773578169827340\n",
      "Tue Dec 14 15:12:01 +0000 2021\n",
      "1470773576802390025\n",
      "Tue Dec 14 15:12:00 +0000 2021\n",
      "1470773575502155777\n",
      "Tue Dec 14 15:12:00 +0000 2021\n",
      "1470773573014929417\n",
      "Tue Dec 14 15:11:59 +0000 2021\n",
      "1470773570393546755\n",
      "Tue Dec 14 15:11:57 +0000 2021\n",
      "1470773561581350918\n",
      "Tue Dec 14 15:11:56 +0000 2021\n",
      "1470773559287074823\n",
      "Tue Dec 14 15:11:55 +0000 2021\n",
      "1470773553339506716\n",
      "Tue Dec 14 15:11:52 +0000 2021\n",
      "1470773541314482184\n",
      "Tue Dec 14 15:11:50 +0000 2021\n",
      "1470773532514832390\n",
      "Tue Dec 14 15:11:50 +0000 2021\n",
      "1470773531067793410\n",
      "Tue Dec 14 15:11:45 +0000 2021\n",
      "1470773511094517772\n",
      "Tue Dec 14 15:11:44 +0000 2021\n",
      "1470773508246491141\n",
      "Tue Dec 14 15:11:44 +0000 2021\n",
      "1470773507420483589\n",
      "Tue Dec 14 15:11:44 +0000 2021\n",
      "1470773506245902354\n",
      "Tue Dec 14 15:11:42 +0000 2021\n",
      "1470773497169608706\n",
      "Tue Dec 14 15:11:39 +0000 2021\n",
      "1470773484821299209\n",
      "Tue Dec 14 15:11:36 +0000 2021\n",
      "1470773475501617152\n",
      "Tue Dec 14 15:11:35 +0000 2021\n",
      "1470773470330077184\n",
      "Tue Dec 14 15:11:35 +0000 2021\n",
      "1470773468853637130\n",
      "Tue Dec 14 15:11:35 +0000 2021\n",
      "1470773468585250840\n",
      "Tue Dec 14 15:11:35 +0000 2021\n",
      "1470773468161581060\n",
      "Tue Dec 14 15:11:28 +0000 2021\n",
      "1470773441020182532\n",
      "Tue Dec 14 15:11:28 +0000 2021\n",
      "1470773439057305602\n",
      "Tue Dec 14 15:11:27 +0000 2021\n",
      "1470773434745606145\n",
      "Tue Dec 14 15:11:26 +0000 2021\n",
      "1470773431239155714\n",
      "Tue Dec 14 15:11:22 +0000 2021\n",
      "1470773415543984133\n",
      "Tue Dec 14 15:11:19 +0000 2021\n",
      "1470773401602166784\n",
      "Tue Dec 14 15:11:18 +0000 2021\n",
      "1470773397776965633\n",
      "Tue Dec 14 15:11:15 +0000 2021\n",
      "1470773386544615439\n",
      "Tue Dec 14 15:11:13 +0000 2021\n",
      "1470773377686290444\n",
      "Tue Dec 14 15:11:13 +0000 2021\n",
      "1470773376889282568\n",
      "Tue Dec 14 15:11:09 +0000 2021\n",
      "1470773362486038541\n",
      "Tue Dec 14 15:11:08 +0000 2021\n",
      "1470773354600796161\n",
      "Tue Dec 14 15:11:07 +0000 2021\n",
      "1470773352369627138\n",
      "Tue Dec 14 15:11:06 +0000 2021\n",
      "1470773347717943296\n",
      "Tue Dec 14 15:11:06 +0000 2021\n",
      "1470773347579568131\n",
      "Tue Dec 14 15:11:05 +0000 2021\n",
      "1470773343620317187\n",
      "Tue Dec 14 15:11:04 +0000 2021\n",
      "1470773339962716160\n",
      "Tue Dec 14 15:11:02 +0000 2021\n",
      "1470773330525491202\n",
      "Tue Dec 14 15:11:01 +0000 2021\n",
      "1470773327102976007\n",
      "Tue Dec 14 15:11:01 +0000 2021\n",
      "1470773325806936075\n",
      "Tue Dec 14 15:11:00 +0000 2021\n",
      "1470773324569587717\n",
      "Tue Dec 14 15:10:58 +0000 2021\n",
      "1470773314037690368\n",
      "Tue Dec 14 15:10:50 +0000 2021\n",
      "1470773282555236357\n",
      "Tue Dec 14 15:10:50 +0000 2021\n",
      "1470773281691160586\n",
      "Tue Dec 14 15:10:50 +0000 2021\n",
      "1470773281238233094\n",
      "Tue Dec 14 15:10:49 +0000 2021\n",
      "1470773277455155201\n",
      "Tue Dec 14 15:10:49 +0000 2021\n",
      "1470773275106193410\n",
      "Tue Dec 14 15:10:47 +0000 2021\n",
      "1470773267082649606\n",
      "Tue Dec 14 15:10:41 +0000 2021\n",
      "1470773245142052864\n",
      "Tue Dec 14 15:10:41 +0000 2021\n",
      "1470773241547563012\n",
      "Tue Dec 14 15:10:40 +0000 2021\n",
      "1470773239362297864\n",
      "Tue Dec 14 15:10:33 +0000 2021\n",
      "1470773210778157059\n",
      "Tue Dec 14 15:10:32 +0000 2021\n",
      "1470773206319616005\n",
      "Tue Dec 14 15:10:32 +0000 2021\n",
      "1470773204146864141\n",
      "Tue Dec 14 15:10:30 +0000 2021\n",
      "1470773196324589581\n",
      "Tue Dec 14 15:10:27 +0000 2021\n",
      "1470773182672084997\n",
      "Tue Dec 14 15:10:26 +0000 2021\n",
      "1470773178599358472\n",
      "Tue Dec 14 15:10:25 +0000 2021\n",
      "1470773175088779267\n",
      "Tue Dec 14 15:10:23 +0000 2021\n",
      "1470773166872178699\n",
      "Tue Dec 14 15:10:21 +0000 2021\n",
      "1470773161293750279\n",
      "Tue Dec 14 15:10:21 +0000 2021\n",
      "1470773159339167749\n",
      "Tue Dec 14 15:10:20 +0000 2021\n",
      "1470773153827852303\n",
      "101 documents insert\n"
     ]
    }
   ],
   "source": [
    "#search_results = rest_api.search.tweets( count=count,q=q, geocode=geocode)\n",
    "search_results = rest_api.search.tweets( count=count,q=q) #you can use both q and geocode\n",
    "statuses = search_results[\"statuses\"]\n",
    "since_id_new = statuses[-1]['id']\n",
    "i=1\n",
    "for statuse in statuses:\n",
    "    try:\n",
    "#         tweet_collection.insert_one(statuse)\n",
    "        print(statuse['created_at'])# print the date of the collected tweets\n",
    "        print(statuse['id_str'])\n",
    "        i=i+1\n",
    "    except:\n",
    "        pass\n",
    "print(i, \"documents insert\")"
   ]
  },
  {
   "cell_type": "code",
   "execution_count": 75,
   "metadata": {},
   "outputs": [
    {
     "name": "stdout",
     "output_type": "stream",
     "text": [
      "you have  214 document in collection\n"
     ]
    }
   ],
   "source": [
    "print(\"you have \",tweet_collection.count_documents({}),\"document in collection\")"
   ]
  },
  {
   "cell_type": "code",
   "execution_count": 53,
   "metadata": {},
   "outputs": [
    {
     "name": "stdout",
     "output_type": "stream",
     "text": [
      "1470578305942179843\n"
     ]
    }
   ],
   "source": [
    "print(since_id_new)"
   ]
  },
  {
   "cell_type": "markdown",
   "metadata": {},
   "source": [
    "## View the Collected Tweets"
   ]
  },
  {
   "cell_type": "markdown",
   "metadata": {},
   "source": [
    "Print the number of tweets and unique twitter users"
   ]
  },
  {
   "cell_type": "code",
   "execution_count": 56,
   "metadata": {},
   "outputs": [
    {
     "name": "stdout",
     "output_type": "stream",
     "text": [
      "214\n",
      "163\n"
     ]
    }
   ],
   "source": [
    "print(tweet_collection.estimated_document_count())# number of tweets collected\n",
    "\n",
    "user_cursor = tweet_collection.distinct(\"user.id\")\n",
    "print (len(user_cursor)) # number of unique Twitter users "
   ]
  },
  {
   "cell_type": "markdown",
   "metadata": {},
   "source": [
    "## ลองสร้าง loop เอง"
   ]
  },
  {
   "cell_type": "markdown",
   "metadata": {},
   "source": [
    "Continue fetching early tweets with the same query. \n",
    "<p><span style=\"color:red;font-weight:bold\">YOU WILL REACH YOUR RATE LIMIT VERY FAST</span></p>"
   ]
  },
  {
   "cell_type": "code",
   "execution_count": 81,
   "metadata": {},
   "outputs": [
    {
     "name": "stdout",
     "output_type": "stream",
     "text": [
      "start =  314\n"
     ]
    }
   ],
   "source": [
    "start = tweet_collection.count_documents({}) # จำนวนคอลเลกชั่นที่มีในปัจจุบัน\n",
    "count = 1000 #number of returned tweets, default and max is 1000\n",
    "q = \"#ผู้ว่ากทม\"                            #define the keywords, tweets contain election\n",
    "print(\"start = \",start)"
   ]
  },
  {
   "cell_type": "code",
   "execution_count": 28,
   "metadata": {},
   "outputs": [
    {
     "name": "stdout",
     "output_type": "stream",
     "text": [
      "1 documents insert\n",
      "1470775258483466245\n",
      "2 documents insert\n",
      "1470775258483466245\n",
      "3 documents insert\n",
      "1470775258483466245\n",
      "4 documents insert\n",
      "1470775258483466245\n",
      "5 documents insert\n",
      "1470775258483466245\n",
      "6 documents insert\n",
      "1470775258483466245\n",
      "7 documents insert\n",
      "1470775258483466245\n",
      "8 documents insert\n",
      "1470775258483466245\n",
      "9 documents insert\n",
      "1470775258483466245\n",
      "10 documents insert\n",
      "1470775258483466245\n",
      "11 documents insert\n",
      "1470775387378622472\n",
      "12 documents insert\n",
      "1470775387378622472\n",
      "13 documents insert\n",
      "1470775387378622472\n",
      "14 documents insert\n",
      "1470775387378622472\n",
      "15 documents insert\n",
      "1470775387378622472\n",
      "16 documents insert\n",
      "1470775387378622472\n",
      "17 documents insert\n",
      "1470775387378622472\n",
      "18 documents insert\n",
      "1470775387378622472\n",
      "19 documents insert\n",
      "1470775387378622472\n",
      "20 documents insert\n",
      "1470775387378622472\n",
      "21 documents insert\n",
      "1470775471763857410\n",
      "22 documents insert\n",
      "1470775471763857410\n",
      "23 documents insert\n",
      "1470775471763857410\n",
      "24 documents insert\n",
      "1470775471763857410\n",
      "25 documents insert\n",
      "1470775471763857410\n",
      "26 documents insert\n",
      "1470775471763857410\n",
      "27 documents insert\n",
      "1470775471763857410\n",
      "28 documents insert\n",
      "1470775471763857410\n",
      "29 documents insert\n",
      "1470775471763857410\n",
      "30 documents insert\n",
      "1470775471763857410\n",
      "31 documents insert\n",
      "1470775527137026055\n",
      "32 documents insert\n",
      "1470775527137026055\n",
      "33 documents insert\n",
      "1470775527137026055\n",
      "34 documents insert\n",
      "1470775527137026055\n",
      "35 documents insert\n",
      "1470775527137026055\n",
      "36 documents insert\n",
      "1470775527137026055\n",
      "37 documents insert\n",
      "1470775527137026055\n",
      "38 documents insert\n",
      "1470775527137026055\n",
      "39 documents insert\n",
      "1470775527137026055\n",
      "40 documents insert\n",
      "1470775527137026055\n",
      "41 documents insert\n",
      "1470775639519248385\n",
      "42 documents insert\n",
      "1470775639519248385\n",
      "43 documents insert\n",
      "1470775639519248385\n",
      "44 documents insert\n",
      "1470775639519248385\n",
      "45 documents insert\n",
      "1470775639519248385\n",
      "46 documents insert\n",
      "1470775639519248385\n",
      "47 documents insert\n",
      "1470775639519248385\n",
      "48 documents insert\n",
      "1470775639519248385\n",
      "49 documents insert\n",
      "1470775639519248385\n",
      "50 documents insert\n",
      "1470775639519248385\n",
      "51 documents insert\n",
      "1470775701796179973\n",
      "52 documents insert\n",
      "1470775701796179973\n",
      "53 documents insert\n",
      "1470775701796179973\n",
      "54 documents insert\n",
      "1470775701796179973\n",
      "55 documents insert\n",
      "1470775701796179973\n",
      "56 documents insert\n",
      "1470775701796179973\n",
      "57 documents insert\n",
      "1470775701796179973\n",
      "58 documents insert\n",
      "1470775701796179973\n",
      "59 documents insert\n",
      "1470775701796179973\n",
      "60 documents insert\n",
      "1470775701796179973\n",
      "61 documents insert\n",
      "1470775791847882753\n",
      "62 documents insert\n",
      "1470775791847882753\n",
      "63 documents insert\n",
      "1470775791847882753\n",
      "64 documents insert\n",
      "1470775791847882753\n",
      "65 documents insert\n",
      "1470775791847882753\n",
      "66 documents insert\n",
      "1470775791847882753\n",
      "67 documents insert\n",
      "1470775791847882753\n",
      "68 documents insert\n",
      "1470775791847882753\n",
      "69 documents insert\n",
      "1470775791847882753\n",
      "70 documents insert\n",
      "1470775791847882753\n",
      "71 documents insert\n",
      "1470775895745040386\n",
      "72 documents insert\n",
      "1470775895745040386\n",
      "73 documents insert\n",
      "1470775895745040386\n",
      "74 documents insert\n",
      "1470775895745040386\n",
      "75 documents insert\n",
      "1470775895745040386\n",
      "76 documents insert\n",
      "1470775895745040386\n",
      "77 documents insert\n",
      "1470775895745040386\n",
      "78 documents insert\n",
      "1470775895745040386\n",
      "79 documents insert\n",
      "1470775895745040386\n",
      "80 documents insert\n",
      "1470775895745040386\n",
      "81 documents insert\n",
      "1470775962304450568\n",
      "82 documents insert\n",
      "1470775962304450568\n",
      "83 documents insert\n",
      "1470775962304450568\n",
      "84 documents insert\n",
      "1470775962304450568\n",
      "85 documents insert\n",
      "1470775962304450568\n",
      "86 documents insert\n",
      "1470775962304450568\n",
      "87 documents insert\n",
      "1470775962304450568\n",
      "88 documents insert\n",
      "1470775962304450568\n",
      "89 documents insert\n",
      "1470775962304450568\n",
      "90 documents insert\n",
      "1470775962304450568\n",
      "91 documents insert\n",
      "1470776081603268608\n",
      "92 documents insert\n",
      "1470776081603268608\n",
      "93 documents insert\n",
      "1470776081603268608\n",
      "94 documents insert\n",
      "1470776081603268608\n",
      "95 documents insert\n",
      "1470776081603268608\n",
      "96 documents insert\n",
      "1470776081603268608\n",
      "97 documents insert\n",
      "1470776081603268608\n",
      "98 documents insert\n",
      "1470776081603268608\n",
      "99 documents insert\n",
      "1470776081603268608\n",
      "100 documents insert\n",
      "1470776081603268608\n",
      "101 documents insert\n",
      "1470776157327048707\n",
      "102 documents insert\n",
      "1470776157327048707\n",
      "103 documents insert\n",
      "1470776157327048707\n",
      "104 documents insert\n",
      "1470776157327048707\n",
      "105 documents insert\n",
      "1470776157327048707\n",
      "106 documents insert\n",
      "1470776157327048707\n",
      "107 documents insert\n",
      "1470776157327048707\n",
      "108 documents insert\n",
      "1470776157327048707\n",
      "109 documents insert\n",
      "1470776157327048707\n",
      "110 documents insert\n",
      "1470776157327048707\n",
      "111 documents insert\n",
      "1470776239757705218\n",
      "112 documents insert\n",
      "1470776239757705218\n",
      "113 documents insert\n",
      "1470776239757705218\n",
      "114 documents insert\n",
      "1470776239757705218\n",
      "115 documents insert\n",
      "1470776239757705218\n",
      "116 documents insert\n",
      "1470776239757705218\n",
      "117 documents insert\n",
      "1470776239757705218\n",
      "118 documents insert\n",
      "1470776239757705218\n",
      "119 documents insert\n",
      "1470776239757705218\n",
      "120 documents insert\n",
      "1470776239757705218\n",
      "121 documents insert\n",
      "1470776362399055878\n",
      "122 documents insert\n",
      "1470776362399055878\n",
      "123 documents insert\n",
      "1470776362399055878\n",
      "124 documents insert\n",
      "1470776362399055878\n",
      "125 documents insert\n",
      "1470776362399055878\n",
      "126 documents insert\n",
      "1470776362399055878\n",
      "127 documents insert\n",
      "1470776362399055878\n",
      "128 documents insert\n",
      "1470776362399055878\n",
      "129 documents insert\n",
      "1470776362399055878\n",
      "130 documents insert\n",
      "1470776362399055878\n",
      "131 documents insert\n",
      "1470776441801478158\n",
      "132 documents insert\n",
      "1470776441801478158\n",
      "133 documents insert\n",
      "1470776441801478158\n",
      "134 documents insert\n",
      "1470776441801478158\n",
      "135 documents insert\n",
      "1470776441801478158\n",
      "136 documents insert\n",
      "1470776441801478158\n",
      "137 documents insert\n",
      "1470776441801478158\n",
      "138 documents insert\n",
      "1470776441801478158\n",
      "139 documents insert\n",
      "1470776441801478158\n",
      "140 documents insert\n",
      "1470776441801478158\n",
      "141 documents insert\n",
      "1470776518854983681\n",
      "142 documents insert\n",
      "1470776518854983681\n",
      "143 documents insert\n",
      "1470776518854983681\n",
      "144 documents insert\n",
      "1470776518854983681\n",
      "145 documents insert\n",
      "1470776518854983681\n",
      "146 documents insert\n",
      "1470776518854983681\n",
      "147 documents insert\n",
      "1470776518854983681\n",
      "148 documents insert\n",
      "1470776518854983681\n",
      "149 documents insert\n",
      "1470776518854983681\n",
      "150 documents insert\n",
      "1470776518854983681\n",
      "151 documents insert\n",
      "1470776591340998658\n",
      "152 documents insert\n",
      "1470776591340998658\n",
      "153 documents insert\n",
      "1470776591340998658\n",
      "154 documents insert\n",
      "1470776591340998658\n",
      "155 documents insert\n",
      "1470776591340998658\n",
      "156 documents insert\n",
      "1470776591340998658\n",
      "157 documents insert\n",
      "1470776591340998658\n",
      "158 documents insert\n",
      "1470776591340998658\n",
      "159 documents insert\n",
      "1470776591340998658\n",
      "160 documents insert\n",
      "1470776591340998658\n",
      "161 documents insert\n",
      "1470776685318578196\n",
      "162 documents insert\n",
      "1470776685318578196\n",
      "163 documents insert\n",
      "1470776685318578196\n",
      "164 documents insert\n",
      "1470776685318578196\n",
      "165 documents insert\n",
      "1470776685318578196\n",
      "166 documents insert\n",
      "1470776685318578196\n",
      "167 documents insert\n",
      "1470776685318578196\n",
      "168 documents insert\n",
      "1470776685318578196\n",
      "169 documents insert\n",
      "1470776685318578196\n",
      "170 documents insert\n",
      "1470776685318578196\n",
      "171 documents insert\n",
      "1470776791359008773\n",
      "172 documents insert\n",
      "1470776791359008773\n",
      "173 documents insert\n",
      "1470776791359008773\n",
      "174 documents insert\n",
      "1470776791359008773\n",
      "175 documents insert\n",
      "1470776791359008773\n",
      "176 documents insert\n",
      "1470776791359008773\n",
      "177 documents insert\n",
      "1470776791359008773\n",
      "178 documents insert\n",
      "1470776791359008773\n",
      "179 documents insert\n",
      "1470776791359008773\n",
      "180 documents insert\n",
      "1470776791359008773\n",
      "181 documents insert\n",
      "1470776894970896398\n",
      "182 documents insert\n",
      "1470776894970896398\n",
      "183 documents insert\n",
      "1470776894970896398\n",
      "184 documents insert\n",
      "1470776894970896398\n",
      "185 documents insert\n",
      "1470776894970896398\n",
      "186 documents insert\n",
      "1470776894970896398\n",
      "187 documents insert\n",
      "1470776894970896398\n",
      "188 documents insert\n",
      "1470776894970896398\n",
      "189 documents insert\n",
      "1470776894970896398\n",
      "190 documents insert\n",
      "1470776894970896398\n",
      "191 documents insert\n",
      "1470776980358447110\n",
      "192 documents insert\n",
      "1470776980358447110\n",
      "193 documents insert\n",
      "1470776980358447110\n",
      "194 documents insert\n",
      "1470776980358447110\n",
      "195 documents insert\n",
      "1470776980358447110\n",
      "196 documents insert\n",
      "1470776980358447110\n",
      "197 documents insert\n",
      "1470776980358447110\n",
      "198 documents insert\n",
      "1470776980358447110\n",
      "199 documents insert\n",
      "1470776980358447110\n",
      "200 documents insert\n",
      "1470776980358447110\n",
      "201 documents insert\n",
      "1470777067696492563\n",
      "202 documents insert\n",
      "1470777067696492563\n",
      "203 documents insert\n",
      "1470777067696492563\n"
     ]
    },
    {
     "name": "stdout",
     "output_type": "stream",
     "text": [
      "204 documents insert\n",
      "1470777067696492563\n",
      "205 documents insert\n",
      "1470777067696492563\n",
      "206 documents insert\n",
      "1470777067696492563\n",
      "207 documents insert\n",
      "1470777067696492563\n",
      "208 documents insert\n",
      "1470777067696492563\n",
      "209 documents insert\n",
      "1470777067696492563\n",
      "210 documents insert\n",
      "1470777067696492563\n",
      "211 documents insert\n",
      "1470777126408400910\n",
      "212 documents insert\n",
      "1470777126408400910\n",
      "213 documents insert\n",
      "1470777126408400910\n",
      "214 documents insert\n",
      "1470777126408400910\n",
      "215 documents insert\n",
      "1470777126408400910\n",
      "216 documents insert\n",
      "1470777126408400910\n",
      "217 documents insert\n",
      "1470777126408400910\n",
      "218 documents insert\n",
      "1470777126408400910\n",
      "219 documents insert\n",
      "1470777126408400910\n",
      "220 documents insert\n",
      "1470777126408400910\n",
      "221 documents insert\n",
      "1470777242553044995\n",
      "222 documents insert\n",
      "1470777242553044995\n",
      "223 documents insert\n",
      "1470777242553044995\n",
      "224 documents insert\n",
      "1470777242553044995\n",
      "225 documents insert\n",
      "1470777242553044995\n",
      "226 documents insert\n",
      "1470777242553044995\n",
      "227 documents insert\n",
      "1470777242553044995\n",
      "228 documents insert\n",
      "1470777242553044995\n",
      "229 documents insert\n",
      "1470777242553044995\n",
      "230 documents insert\n",
      "1470777242553044995\n"
     ]
    },
    {
     "ename": "TwitterHTTPError",
     "evalue": "Twitter sent status 429 for URL: 1.1/search/tweets.json using parameters: (count=10&oauth_consumer_key=OxrKX0tyCgKnJUVa4f31j2GQI&oauth_nonce=1726837508055940163&oauth_signature_method=HMAC-SHA1&oauth_timestamp=1639495620&oauth_token=3313439336-HruZfbLk7sg1JBXfrQpHsLvulJkrTI7b1qX8J34&oauth_version=1.0&q=%23%E0%B8%9C%E0%B8%B9%E0%B9%89%E0%B8%A7%E0%B9%88%E0%B8%B2%E0%B8%81%E0%B8%97%E0%B8%A1&oauth_signature=W0B94ys9oz9g4RgIEhY1yKPF%2BHE%3D)\ndetails: {'errors': [{'message': 'Rate limit exceeded', 'code': 88}]}",
     "output_type": "error",
     "traceback": [
      "\u001b[1;31m---------------------------------------------------------------------------\u001b[0m",
      "\u001b[1;31mHTTPError\u001b[0m                                 Traceback (most recent call last)",
      "\u001b[1;32m~\\anaconda3\\lib\\site-packages\\twitter\\api.py\u001b[0m in \u001b[0;36m_handle_response\u001b[1;34m(self, req, uri, arg_data, _timeout)\u001b[0m\n\u001b[0;32m    374\u001b[0m             \u001b[0mkwargs\u001b[0m\u001b[1;33m[\u001b[0m\u001b[1;34m'context'\u001b[0m\u001b[1;33m]\u001b[0m \u001b[1;33m=\u001b[0m \u001b[0mcontext\u001b[0m\u001b[1;33m\u001b[0m\u001b[1;33m\u001b[0m\u001b[0m\n\u001b[1;32m--> 375\u001b[1;33m             \u001b[0mhandle\u001b[0m \u001b[1;33m=\u001b[0m \u001b[0murllib_request\u001b[0m\u001b[1;33m.\u001b[0m\u001b[0murlopen\u001b[0m\u001b[1;33m(\u001b[0m\u001b[0mreq\u001b[0m\u001b[1;33m,\u001b[0m \u001b[1;33m**\u001b[0m\u001b[0mkwargs\u001b[0m\u001b[1;33m)\u001b[0m\u001b[1;33m\u001b[0m\u001b[1;33m\u001b[0m\u001b[0m\n\u001b[0m\u001b[0;32m    376\u001b[0m             \u001b[1;32mif\u001b[0m \u001b[0mhandle\u001b[0m\u001b[1;33m.\u001b[0m\u001b[0mheaders\u001b[0m\u001b[1;33m[\u001b[0m\u001b[1;34m'Content-Type'\u001b[0m\u001b[1;33m]\u001b[0m \u001b[1;32min\u001b[0m \u001b[1;33m[\u001b[0m\u001b[1;34m'image/jpeg'\u001b[0m\u001b[1;33m,\u001b[0m \u001b[1;34m'image/png'\u001b[0m\u001b[1;33m]\u001b[0m\u001b[1;33m:\u001b[0m\u001b[1;33m\u001b[0m\u001b[1;33m\u001b[0m\u001b[0m\n",
      "\u001b[1;32m~\\anaconda3\\lib\\urllib\\request.py\u001b[0m in \u001b[0;36murlopen\u001b[1;34m(url, data, timeout, cafile, capath, cadefault, context)\u001b[0m\n\u001b[0;32m    221\u001b[0m         \u001b[0mopener\u001b[0m \u001b[1;33m=\u001b[0m \u001b[0m_opener\u001b[0m\u001b[1;33m\u001b[0m\u001b[1;33m\u001b[0m\u001b[0m\n\u001b[1;32m--> 222\u001b[1;33m     \u001b[1;32mreturn\u001b[0m \u001b[0mopener\u001b[0m\u001b[1;33m.\u001b[0m\u001b[0mopen\u001b[0m\u001b[1;33m(\u001b[0m\u001b[0murl\u001b[0m\u001b[1;33m,\u001b[0m \u001b[0mdata\u001b[0m\u001b[1;33m,\u001b[0m \u001b[0mtimeout\u001b[0m\u001b[1;33m)\u001b[0m\u001b[1;33m\u001b[0m\u001b[1;33m\u001b[0m\u001b[0m\n\u001b[0m\u001b[0;32m    223\u001b[0m \u001b[1;33m\u001b[0m\u001b[0m\n",
      "\u001b[1;32m~\\anaconda3\\lib\\urllib\\request.py\u001b[0m in \u001b[0;36mopen\u001b[1;34m(self, fullurl, data, timeout)\u001b[0m\n\u001b[0;32m    530\u001b[0m             \u001b[0mmeth\u001b[0m \u001b[1;33m=\u001b[0m \u001b[0mgetattr\u001b[0m\u001b[1;33m(\u001b[0m\u001b[0mprocessor\u001b[0m\u001b[1;33m,\u001b[0m \u001b[0mmeth_name\u001b[0m\u001b[1;33m)\u001b[0m\u001b[1;33m\u001b[0m\u001b[1;33m\u001b[0m\u001b[0m\n\u001b[1;32m--> 531\u001b[1;33m             \u001b[0mresponse\u001b[0m \u001b[1;33m=\u001b[0m \u001b[0mmeth\u001b[0m\u001b[1;33m(\u001b[0m\u001b[0mreq\u001b[0m\u001b[1;33m,\u001b[0m \u001b[0mresponse\u001b[0m\u001b[1;33m)\u001b[0m\u001b[1;33m\u001b[0m\u001b[1;33m\u001b[0m\u001b[0m\n\u001b[0m\u001b[0;32m    532\u001b[0m \u001b[1;33m\u001b[0m\u001b[0m\n",
      "\u001b[1;32m~\\anaconda3\\lib\\urllib\\request.py\u001b[0m in \u001b[0;36mhttp_response\u001b[1;34m(self, request, response)\u001b[0m\n\u001b[0;32m    639\u001b[0m         \u001b[1;32mif\u001b[0m \u001b[1;32mnot\u001b[0m \u001b[1;33m(\u001b[0m\u001b[1;36m200\u001b[0m \u001b[1;33m<=\u001b[0m \u001b[0mcode\u001b[0m \u001b[1;33m<\u001b[0m \u001b[1;36m300\u001b[0m\u001b[1;33m)\u001b[0m\u001b[1;33m:\u001b[0m\u001b[1;33m\u001b[0m\u001b[1;33m\u001b[0m\u001b[0m\n\u001b[1;32m--> 640\u001b[1;33m             response = self.parent.error(\n\u001b[0m\u001b[0;32m    641\u001b[0m                 'http', request, response, code, msg, hdrs)\n",
      "\u001b[1;32m~\\anaconda3\\lib\\urllib\\request.py\u001b[0m in \u001b[0;36merror\u001b[1;34m(self, proto, *args)\u001b[0m\n\u001b[0;32m    568\u001b[0m             \u001b[0margs\u001b[0m \u001b[1;33m=\u001b[0m \u001b[1;33m(\u001b[0m\u001b[0mdict\u001b[0m\u001b[1;33m,\u001b[0m \u001b[1;34m'default'\u001b[0m\u001b[1;33m,\u001b[0m \u001b[1;34m'http_error_default'\u001b[0m\u001b[1;33m)\u001b[0m \u001b[1;33m+\u001b[0m \u001b[0morig_args\u001b[0m\u001b[1;33m\u001b[0m\u001b[1;33m\u001b[0m\u001b[0m\n\u001b[1;32m--> 569\u001b[1;33m             \u001b[1;32mreturn\u001b[0m \u001b[0mself\u001b[0m\u001b[1;33m.\u001b[0m\u001b[0m_call_chain\u001b[0m\u001b[1;33m(\u001b[0m\u001b[1;33m*\u001b[0m\u001b[0margs\u001b[0m\u001b[1;33m)\u001b[0m\u001b[1;33m\u001b[0m\u001b[1;33m\u001b[0m\u001b[0m\n\u001b[0m\u001b[0;32m    570\u001b[0m \u001b[1;33m\u001b[0m\u001b[0m\n",
      "\u001b[1;32m~\\anaconda3\\lib\\urllib\\request.py\u001b[0m in \u001b[0;36m_call_chain\u001b[1;34m(self, chain, kind, meth_name, *args)\u001b[0m\n\u001b[0;32m    501\u001b[0m             \u001b[0mfunc\u001b[0m \u001b[1;33m=\u001b[0m \u001b[0mgetattr\u001b[0m\u001b[1;33m(\u001b[0m\u001b[0mhandler\u001b[0m\u001b[1;33m,\u001b[0m \u001b[0mmeth_name\u001b[0m\u001b[1;33m)\u001b[0m\u001b[1;33m\u001b[0m\u001b[1;33m\u001b[0m\u001b[0m\n\u001b[1;32m--> 502\u001b[1;33m             \u001b[0mresult\u001b[0m \u001b[1;33m=\u001b[0m \u001b[0mfunc\u001b[0m\u001b[1;33m(\u001b[0m\u001b[1;33m*\u001b[0m\u001b[0margs\u001b[0m\u001b[1;33m)\u001b[0m\u001b[1;33m\u001b[0m\u001b[1;33m\u001b[0m\u001b[0m\n\u001b[0m\u001b[0;32m    503\u001b[0m             \u001b[1;32mif\u001b[0m \u001b[0mresult\u001b[0m \u001b[1;32mis\u001b[0m \u001b[1;32mnot\u001b[0m \u001b[1;32mNone\u001b[0m\u001b[1;33m:\u001b[0m\u001b[1;33m\u001b[0m\u001b[1;33m\u001b[0m\u001b[0m\n",
      "\u001b[1;32m~\\anaconda3\\lib\\urllib\\request.py\u001b[0m in \u001b[0;36mhttp_error_default\u001b[1;34m(self, req, fp, code, msg, hdrs)\u001b[0m\n\u001b[0;32m    648\u001b[0m     \u001b[1;32mdef\u001b[0m \u001b[0mhttp_error_default\u001b[0m\u001b[1;33m(\u001b[0m\u001b[0mself\u001b[0m\u001b[1;33m,\u001b[0m \u001b[0mreq\u001b[0m\u001b[1;33m,\u001b[0m \u001b[0mfp\u001b[0m\u001b[1;33m,\u001b[0m \u001b[0mcode\u001b[0m\u001b[1;33m,\u001b[0m \u001b[0mmsg\u001b[0m\u001b[1;33m,\u001b[0m \u001b[0mhdrs\u001b[0m\u001b[1;33m)\u001b[0m\u001b[1;33m:\u001b[0m\u001b[1;33m\u001b[0m\u001b[1;33m\u001b[0m\u001b[0m\n\u001b[1;32m--> 649\u001b[1;33m         \u001b[1;32mraise\u001b[0m \u001b[0mHTTPError\u001b[0m\u001b[1;33m(\u001b[0m\u001b[0mreq\u001b[0m\u001b[1;33m.\u001b[0m\u001b[0mfull_url\u001b[0m\u001b[1;33m,\u001b[0m \u001b[0mcode\u001b[0m\u001b[1;33m,\u001b[0m \u001b[0mmsg\u001b[0m\u001b[1;33m,\u001b[0m \u001b[0mhdrs\u001b[0m\u001b[1;33m,\u001b[0m \u001b[0mfp\u001b[0m\u001b[1;33m)\u001b[0m\u001b[1;33m\u001b[0m\u001b[1;33m\u001b[0m\u001b[0m\n\u001b[0m\u001b[0;32m    650\u001b[0m \u001b[1;33m\u001b[0m\u001b[0m\n",
      "\u001b[1;31mHTTPError\u001b[0m: HTTP Error 429: Too Many Requests",
      "\nDuring handling of the above exception, another exception occurred:\n",
      "\u001b[1;31mTwitterHTTPError\u001b[0m                          Traceback (most recent call last)",
      "\u001b[1;32m<ipython-input-28-559a108aae3b>\u001b[0m in \u001b[0;36m<module>\u001b[1;34m\u001b[0m\n\u001b[0;32m      4\u001b[0m \u001b[1;33m\u001b[0m\u001b[0m\n\u001b[0;32m      5\u001b[0m \u001b[1;32mwhile\u001b[0m\u001b[1;33m(\u001b[0m\u001b[0msince_id_new\u001b[0m \u001b[1;33m!=\u001b[0m \u001b[0msince_id_old\u001b[0m\u001b[1;33m)\u001b[0m\u001b[1;33m:\u001b[0m\u001b[1;33m\u001b[0m\u001b[1;33m\u001b[0m\u001b[0m\n\u001b[1;32m----> 6\u001b[1;33m     \u001b[0msearch_results\u001b[0m \u001b[1;33m=\u001b[0m \u001b[0mrest_api\u001b[0m\u001b[1;33m.\u001b[0m\u001b[0msearch\u001b[0m\u001b[1;33m.\u001b[0m\u001b[0mtweets\u001b[0m\u001b[1;33m(\u001b[0m \u001b[0mcount\u001b[0m\u001b[1;33m=\u001b[0m\u001b[1;36m10\u001b[0m\u001b[1;33m,\u001b[0m\u001b[0mq\u001b[0m\u001b[1;33m=\u001b[0m\u001b[0mq\u001b[0m\u001b[1;33m)\u001b[0m \u001b[1;31m#you can use both q and geocode\u001b[0m\u001b[1;33m\u001b[0m\u001b[1;33m\u001b[0m\u001b[0m\n\u001b[0m\u001b[0;32m      7\u001b[0m     \u001b[0mstatuses\u001b[0m \u001b[1;33m=\u001b[0m \u001b[0msearch_results\u001b[0m\u001b[1;33m[\u001b[0m\u001b[1;34m\"statuses\"\u001b[0m\u001b[1;33m]\u001b[0m\u001b[1;33m\u001b[0m\u001b[1;33m\u001b[0m\u001b[0m\n\u001b[0;32m      8\u001b[0m     \u001b[0msince_id_new\u001b[0m \u001b[1;33m=\u001b[0m \u001b[0mstatuses\u001b[0m\u001b[1;33m[\u001b[0m\u001b[1;33m-\u001b[0m\u001b[1;36m1\u001b[0m\u001b[1;33m]\u001b[0m\u001b[1;33m[\u001b[0m\u001b[1;34m'id'\u001b[0m\u001b[1;33m]\u001b[0m\u001b[1;33m\u001b[0m\u001b[1;33m\u001b[0m\u001b[0m\n",
      "\u001b[1;32m~\\anaconda3\\lib\\site-packages\\twitter\\api.py\u001b[0m in \u001b[0;36m__call__\u001b[1;34m(self, **kwargs)\u001b[0m\n\u001b[0;32m    362\u001b[0m             \u001b[1;32mreturn\u001b[0m \u001b[0mself\u001b[0m\u001b[1;33m.\u001b[0m\u001b[0m_handle_response_with_retry\u001b[0m\u001b[1;33m(\u001b[0m\u001b[0mreq\u001b[0m\u001b[1;33m,\u001b[0m \u001b[0muri\u001b[0m\u001b[1;33m,\u001b[0m \u001b[0marg_data\u001b[0m\u001b[1;33m,\u001b[0m \u001b[0m_timeout\u001b[0m\u001b[1;33m)\u001b[0m\u001b[1;33m\u001b[0m\u001b[1;33m\u001b[0m\u001b[0m\n\u001b[0;32m    363\u001b[0m         \u001b[1;32melse\u001b[0m\u001b[1;33m:\u001b[0m\u001b[1;33m\u001b[0m\u001b[1;33m\u001b[0m\u001b[0m\n\u001b[1;32m--> 364\u001b[1;33m             \u001b[1;32mreturn\u001b[0m \u001b[0mself\u001b[0m\u001b[1;33m.\u001b[0m\u001b[0m_handle_response\u001b[0m\u001b[1;33m(\u001b[0m\u001b[0mreq\u001b[0m\u001b[1;33m,\u001b[0m \u001b[0muri\u001b[0m\u001b[1;33m,\u001b[0m \u001b[0marg_data\u001b[0m\u001b[1;33m,\u001b[0m \u001b[0m_timeout\u001b[0m\u001b[1;33m)\u001b[0m\u001b[1;33m\u001b[0m\u001b[1;33m\u001b[0m\u001b[0m\n\u001b[0m\u001b[0;32m    365\u001b[0m \u001b[1;33m\u001b[0m\u001b[0m\n\u001b[0;32m    366\u001b[0m     \u001b[1;32mdef\u001b[0m \u001b[0m_handle_response\u001b[0m\u001b[1;33m(\u001b[0m\u001b[0mself\u001b[0m\u001b[1;33m,\u001b[0m \u001b[0mreq\u001b[0m\u001b[1;33m,\u001b[0m \u001b[0muri\u001b[0m\u001b[1;33m,\u001b[0m \u001b[0marg_data\u001b[0m\u001b[1;33m,\u001b[0m \u001b[0m_timeout\u001b[0m\u001b[1;33m=\u001b[0m\u001b[1;32mNone\u001b[0m\u001b[1;33m)\u001b[0m\u001b[1;33m:\u001b[0m\u001b[1;33m\u001b[0m\u001b[1;33m\u001b[0m\u001b[0m\n",
      "\u001b[1;32m~\\anaconda3\\lib\\site-packages\\twitter\\api.py\u001b[0m in \u001b[0;36m_handle_response\u001b[1;34m(self, req, uri, arg_data, _timeout)\u001b[0m\n\u001b[0;32m    404\u001b[0m                 \u001b[1;32mreturn\u001b[0m \u001b[1;33m[\u001b[0m\u001b[1;33m]\u001b[0m\u001b[1;33m\u001b[0m\u001b[1;33m\u001b[0m\u001b[0m\n\u001b[0;32m    405\u001b[0m             \u001b[1;32melse\u001b[0m\u001b[1;33m:\u001b[0m\u001b[1;33m\u001b[0m\u001b[1;33m\u001b[0m\u001b[0m\n\u001b[1;32m--> 406\u001b[1;33m                 \u001b[1;32mraise\u001b[0m \u001b[0mTwitterHTTPError\u001b[0m\u001b[1;33m(\u001b[0m\u001b[0me\u001b[0m\u001b[1;33m,\u001b[0m \u001b[0muri\u001b[0m\u001b[1;33m,\u001b[0m \u001b[0mself\u001b[0m\u001b[1;33m.\u001b[0m\u001b[0mformat\u001b[0m\u001b[1;33m,\u001b[0m \u001b[0marg_data\u001b[0m\u001b[1;33m)\u001b[0m\u001b[1;33m\u001b[0m\u001b[1;33m\u001b[0m\u001b[0m\n\u001b[0m\u001b[0;32m    407\u001b[0m \u001b[1;33m\u001b[0m\u001b[0m\n\u001b[0;32m    408\u001b[0m     \u001b[1;32mdef\u001b[0m \u001b[0m_handle_response_with_retry\u001b[0m\u001b[1;33m(\u001b[0m\u001b[0mself\u001b[0m\u001b[1;33m,\u001b[0m \u001b[0mreq\u001b[0m\u001b[1;33m,\u001b[0m \u001b[0muri\u001b[0m\u001b[1;33m,\u001b[0m \u001b[0marg_data\u001b[0m\u001b[1;33m,\u001b[0m \u001b[0m_timeout\u001b[0m\u001b[1;33m=\u001b[0m\u001b[1;32mNone\u001b[0m\u001b[1;33m)\u001b[0m\u001b[1;33m:\u001b[0m\u001b[1;33m\u001b[0m\u001b[1;33m\u001b[0m\u001b[0m\n",
      "\u001b[1;31mTwitterHTTPError\u001b[0m: Twitter sent status 429 for URL: 1.1/search/tweets.json using parameters: (count=10&oauth_consumer_key=OxrKX0tyCgKnJUVa4f31j2GQI&oauth_nonce=1726837508055940163&oauth_signature_method=HMAC-SHA1&oauth_timestamp=1639495620&oauth_token=3313439336-HruZfbLk7sg1JBXfrQpHsLvulJkrTI7b1qX8J34&oauth_version=1.0&q=%23%E0%B8%9C%E0%B8%B9%E0%B9%89%E0%B8%A7%E0%B9%88%E0%B8%B2%E0%B8%81%E0%B8%97%E0%B8%A1&oauth_signature=W0B94ys9oz9g4RgIEhY1yKPF%2BHE%3D)\ndetails: {'errors': [{'message': 'Rate limit exceeded', 'code': 88}]}"
     ]
    }
   ],
   "source": [
    "since_id_old = 0\n",
    "since_id_new = start+count\n",
    "i=1\n",
    "\n",
    "while(since_id_new != since_id_old):\n",
    "    search_results = rest_api.search.tweets( count=10,q=q) #you can use both q and geocode\n",
    "    statuses = search_results[\"statuses\"]\n",
    "    since_id_new = statuses[-1]['id']\n",
    "    for statuse in statuses:\n",
    "        try:\n",
    "            tweet_collection.insert_one(statuse)\n",
    "            print(i, \"documents insert\")\n",
    "            print(since_id_new)\n",
    "            i=i+1\n",
    "        except:\n",
    "            pass"
   ]
  },
  {
   "cell_type": "code",
   "execution_count": 85,
   "metadata": {},
   "outputs": [
    {
     "name": "stdout",
     "output_type": "stream",
     "text": [
      "now 1260\n"
     ]
    }
   ],
   "source": [
    "start = tweet_collection.count_documents({}) # จำนวนคอลเลกชั่นที่มีในปัจจุบัน\n",
    "count = 1000 #number of returned tweets, default and max is 1000\n",
    "q = \"#ผู้ว่ากทม\"                            #define the keywords, tweets contain election\n",
    "print(\"now\",start)"
   ]
  },
  {
   "cell_type": "code",
   "execution_count": 23,
   "metadata": {},
   "outputs": [
    {
     "name": "stdout",
     "output_type": "stream",
     "text": [
      "The text of the status is : \n",
      "\n",
      "ตั้งแต่ปี 47 จนถึงปัจจุบัน ระยะเวลากว่า 17 ปี ผู้ว่าล้วนมาจากพรรคประชาธิปัตย์ อัศวิน ก็อดีตคนของประชาธิปัตย์ ที่ถูกแต่งตั้งจากเผด็จการ \n",
      "ปัญหาต่างๆที่ #เอ้สุชัชวีร์ พูดถึง คือ ตอกย้ำความล้มเหลวของพรรคนี้อย่างชัดเจน คือ จะอาสามาแก้ปัญหาที่พรรคนี้ทำไว้ว่างั้น \n",
      "#ผู้ว่ากทม  #เราทำได้ https://t.co/04sApTF334\n"
     ]
    }
   ],
   "source": [
    "id = 1470350066682515459\n",
    "  \n",
    "# fetching the status\n",
    "status = strem_api.get_status(id, tweet_mode = \"extended\")\n",
    "  \n",
    "# fetching the text attribute\n",
    "full_text  = status.full_text \n",
    "  \n",
    "print(\"The text of the status is : \\n\\n\" + full_text )"
   ]
  },
  {
   "cell_type": "markdown",
   "metadata": {},
   "source": [
    "## อ๊ากกกกกกก"
   ]
  },
  {
   "cell_type": "code",
   "execution_count": 24,
   "metadata": {},
   "outputs": [
    {
     "name": "stdout",
     "output_type": "stream",
     "text": [
      "start =  1260\n"
     ]
    }
   ],
   "source": [
    "start = tweet_collection.count_documents({}) # จำนวนคอลเลกชั่นที่มีในปัจจุบัน\n",
    "count = 10                                 # number of returned tweets\n",
    "q = \"#ผู้ว่ากทม\"                                # define the keywords, tweets contain election\n",
    "print(\"start = \",start)"
   ]
  },
  {
   "cell_type": "code",
   "execution_count": 25,
   "metadata": {},
   "outputs": [
    {
     "ename": "TwitterError",
     "evalue": "Incomplete JSON data collected for 1.1/search/tweets (count=1000&oauth_consumer_key=OxrKX0tyCgKnJUVa4f31j2GQI&oauth_nonce=13682801957679807979&oauth_signature_method=HMAC-SHA1&oauth_timestamp=1639492976&oauth_token=3313439336-HruZfbLk7sg1JBXfrQpHsLvulJkrTI7b1qX8J34&oauth_version=1.0&q=%23%E0%B8%9C%E0%B8%B9%E0%B9%89%E0%B8%A7%E0%B9%88%E0%B8%B2%E0%B8%81%E0%B8%97%E0%B8%A1&oauth_signature=rARDnRNQKCZGGeJoqyZOk0S70Gk%3D): Invalid \\uXXXX escape: line 1 column 619385 (char 619384))",
     "output_type": "error",
     "traceback": [
      "\u001b[1;31m---------------------------------------------------------------------------\u001b[0m",
      "\u001b[1;31mJSONDecodeError\u001b[0m                           Traceback (most recent call last)",
      "\u001b[1;32m~\\anaconda3\\lib\\site-packages\\twitter\\api.py\u001b[0m in \u001b[0;36m_handle_response\u001b[1;34m(self, req, uri, arg_data, _timeout)\u001b[0m\n\u001b[0;32m    392\u001b[0m                 \u001b[1;32mtry\u001b[0m\u001b[1;33m:\u001b[0m\u001b[1;33m\u001b[0m\u001b[1;33m\u001b[0m\u001b[0m\n\u001b[1;32m--> 393\u001b[1;33m                     \u001b[0mres\u001b[0m \u001b[1;33m=\u001b[0m \u001b[0mjson\u001b[0m\u001b[1;33m.\u001b[0m\u001b[0mloads\u001b[0m\u001b[1;33m(\u001b[0m\u001b[0mdata\u001b[0m\u001b[1;33m.\u001b[0m\u001b[0mdecode\u001b[0m\u001b[1;33m(\u001b[0m\u001b[1;34m'utf8'\u001b[0m\u001b[1;33m)\u001b[0m\u001b[1;33m)\u001b[0m\u001b[1;33m\u001b[0m\u001b[1;33m\u001b[0m\u001b[0m\n\u001b[0m\u001b[0;32m    394\u001b[0m                 \u001b[1;32mexcept\u001b[0m \u001b[0mjson\u001b[0m\u001b[1;33m.\u001b[0m\u001b[0mdecoder\u001b[0m\u001b[1;33m.\u001b[0m\u001b[0mJSONDecodeError\u001b[0m \u001b[1;32mas\u001b[0m \u001b[0me\u001b[0m\u001b[1;33m:\u001b[0m\u001b[1;33m\u001b[0m\u001b[1;33m\u001b[0m\u001b[0m\n",
      "\u001b[1;32m~\\anaconda3\\lib\\json\\__init__.py\u001b[0m in \u001b[0;36mloads\u001b[1;34m(s, cls, object_hook, parse_float, parse_int, parse_constant, object_pairs_hook, **kw)\u001b[0m\n\u001b[0;32m    356\u001b[0m             parse_constant is None and object_pairs_hook is None and not kw):\n\u001b[1;32m--> 357\u001b[1;33m         \u001b[1;32mreturn\u001b[0m \u001b[0m_default_decoder\u001b[0m\u001b[1;33m.\u001b[0m\u001b[0mdecode\u001b[0m\u001b[1;33m(\u001b[0m\u001b[0ms\u001b[0m\u001b[1;33m)\u001b[0m\u001b[1;33m\u001b[0m\u001b[1;33m\u001b[0m\u001b[0m\n\u001b[0m\u001b[0;32m    358\u001b[0m     \u001b[1;32mif\u001b[0m \u001b[0mcls\u001b[0m \u001b[1;32mis\u001b[0m \u001b[1;32mNone\u001b[0m\u001b[1;33m:\u001b[0m\u001b[1;33m\u001b[0m\u001b[1;33m\u001b[0m\u001b[0m\n",
      "\u001b[1;32m~\\anaconda3\\lib\\json\\decoder.py\u001b[0m in \u001b[0;36mdecode\u001b[1;34m(self, s, _w)\u001b[0m\n\u001b[0;32m    336\u001b[0m         \"\"\"\n\u001b[1;32m--> 337\u001b[1;33m         \u001b[0mobj\u001b[0m\u001b[1;33m,\u001b[0m \u001b[0mend\u001b[0m \u001b[1;33m=\u001b[0m \u001b[0mself\u001b[0m\u001b[1;33m.\u001b[0m\u001b[0mraw_decode\u001b[0m\u001b[1;33m(\u001b[0m\u001b[0ms\u001b[0m\u001b[1;33m,\u001b[0m \u001b[0midx\u001b[0m\u001b[1;33m=\u001b[0m\u001b[0m_w\u001b[0m\u001b[1;33m(\u001b[0m\u001b[0ms\u001b[0m\u001b[1;33m,\u001b[0m \u001b[1;36m0\u001b[0m\u001b[1;33m)\u001b[0m\u001b[1;33m.\u001b[0m\u001b[0mend\u001b[0m\u001b[1;33m(\u001b[0m\u001b[1;33m)\u001b[0m\u001b[1;33m)\u001b[0m\u001b[1;33m\u001b[0m\u001b[1;33m\u001b[0m\u001b[0m\n\u001b[0m\u001b[0;32m    338\u001b[0m         \u001b[0mend\u001b[0m \u001b[1;33m=\u001b[0m \u001b[0m_w\u001b[0m\u001b[1;33m(\u001b[0m\u001b[0ms\u001b[0m\u001b[1;33m,\u001b[0m \u001b[0mend\u001b[0m\u001b[1;33m)\u001b[0m\u001b[1;33m.\u001b[0m\u001b[0mend\u001b[0m\u001b[1;33m(\u001b[0m\u001b[1;33m)\u001b[0m\u001b[1;33m\u001b[0m\u001b[1;33m\u001b[0m\u001b[0m\n",
      "\u001b[1;32m~\\anaconda3\\lib\\json\\decoder.py\u001b[0m in \u001b[0;36mraw_decode\u001b[1;34m(self, s, idx)\u001b[0m\n\u001b[0;32m    352\u001b[0m         \u001b[1;32mtry\u001b[0m\u001b[1;33m:\u001b[0m\u001b[1;33m\u001b[0m\u001b[1;33m\u001b[0m\u001b[0m\n\u001b[1;32m--> 353\u001b[1;33m             \u001b[0mobj\u001b[0m\u001b[1;33m,\u001b[0m \u001b[0mend\u001b[0m \u001b[1;33m=\u001b[0m \u001b[0mself\u001b[0m\u001b[1;33m.\u001b[0m\u001b[0mscan_once\u001b[0m\u001b[1;33m(\u001b[0m\u001b[0ms\u001b[0m\u001b[1;33m,\u001b[0m \u001b[0midx\u001b[0m\u001b[1;33m)\u001b[0m\u001b[1;33m\u001b[0m\u001b[1;33m\u001b[0m\u001b[0m\n\u001b[0m\u001b[0;32m    354\u001b[0m         \u001b[1;32mexcept\u001b[0m \u001b[0mStopIteration\u001b[0m \u001b[1;32mas\u001b[0m \u001b[0merr\u001b[0m\u001b[1;33m:\u001b[0m\u001b[1;33m\u001b[0m\u001b[1;33m\u001b[0m\u001b[0m\n",
      "\u001b[1;31mJSONDecodeError\u001b[0m: Invalid \\uXXXX escape: line 1 column 619385 (char 619384)",
      "\nDuring handling of the above exception, another exception occurred:\n",
      "\u001b[1;31mTwitterError\u001b[0m                              Traceback (most recent call last)",
      "\u001b[1;32m<ipython-input-25-4a71712a4f71>\u001b[0m in \u001b[0;36m<module>\u001b[1;34m\u001b[0m\n\u001b[0;32m      4\u001b[0m \u001b[1;33m\u001b[0m\u001b[0m\n\u001b[0;32m      5\u001b[0m \u001b[1;32mwhile\u001b[0m\u001b[1;33m(\u001b[0m\u001b[0msince_id_new\u001b[0m \u001b[1;33m!=\u001b[0m \u001b[0msince_id_old\u001b[0m\u001b[1;33m)\u001b[0m\u001b[1;33m:\u001b[0m\u001b[1;33m\u001b[0m\u001b[1;33m\u001b[0m\u001b[0m\n\u001b[1;32m----> 6\u001b[1;33m     \u001b[0msearch_results\u001b[0m \u001b[1;33m=\u001b[0m \u001b[0mrest_api\u001b[0m\u001b[1;33m.\u001b[0m\u001b[0msearch\u001b[0m\u001b[1;33m.\u001b[0m\u001b[0mtweets\u001b[0m\u001b[1;33m(\u001b[0m \u001b[0mcount\u001b[0m\u001b[1;33m=\u001b[0m\u001b[0mcount\u001b[0m\u001b[1;33m,\u001b[0m\u001b[0mq\u001b[0m\u001b[1;33m=\u001b[0m\u001b[0mq\u001b[0m\u001b[1;33m)\u001b[0m \u001b[1;31m#you can use both q and geocode\u001b[0m\u001b[1;33m\u001b[0m\u001b[1;33m\u001b[0m\u001b[0m\n\u001b[0m\u001b[0;32m      7\u001b[0m     \u001b[0mstatuses\u001b[0m \u001b[1;33m=\u001b[0m \u001b[0msearch_results\u001b[0m\u001b[1;33m[\u001b[0m\u001b[1;34m\"statuses\"\u001b[0m\u001b[1;33m]\u001b[0m\u001b[1;33m\u001b[0m\u001b[1;33m\u001b[0m\u001b[0m\n\u001b[0;32m      8\u001b[0m     \u001b[0msince_id_new\u001b[0m \u001b[1;33m=\u001b[0m \u001b[0mstatuses\u001b[0m\u001b[1;33m[\u001b[0m\u001b[1;33m-\u001b[0m\u001b[1;36m1\u001b[0m\u001b[1;33m]\u001b[0m\u001b[1;33m[\u001b[0m\u001b[1;34m'id'\u001b[0m\u001b[1;33m]\u001b[0m\u001b[1;33m\u001b[0m\u001b[1;33m\u001b[0m\u001b[0m\n",
      "\u001b[1;32m~\\anaconda3\\lib\\site-packages\\twitter\\api.py\u001b[0m in \u001b[0;36m__call__\u001b[1;34m(self, **kwargs)\u001b[0m\n\u001b[0;32m    362\u001b[0m             \u001b[1;32mreturn\u001b[0m \u001b[0mself\u001b[0m\u001b[1;33m.\u001b[0m\u001b[0m_handle_response_with_retry\u001b[0m\u001b[1;33m(\u001b[0m\u001b[0mreq\u001b[0m\u001b[1;33m,\u001b[0m \u001b[0muri\u001b[0m\u001b[1;33m,\u001b[0m \u001b[0marg_data\u001b[0m\u001b[1;33m,\u001b[0m \u001b[0m_timeout\u001b[0m\u001b[1;33m)\u001b[0m\u001b[1;33m\u001b[0m\u001b[1;33m\u001b[0m\u001b[0m\n\u001b[0;32m    363\u001b[0m         \u001b[1;32melse\u001b[0m\u001b[1;33m:\u001b[0m\u001b[1;33m\u001b[0m\u001b[1;33m\u001b[0m\u001b[0m\n\u001b[1;32m--> 364\u001b[1;33m             \u001b[1;32mreturn\u001b[0m \u001b[0mself\u001b[0m\u001b[1;33m.\u001b[0m\u001b[0m_handle_response\u001b[0m\u001b[1;33m(\u001b[0m\u001b[0mreq\u001b[0m\u001b[1;33m,\u001b[0m \u001b[0muri\u001b[0m\u001b[1;33m,\u001b[0m \u001b[0marg_data\u001b[0m\u001b[1;33m,\u001b[0m \u001b[0m_timeout\u001b[0m\u001b[1;33m)\u001b[0m\u001b[1;33m\u001b[0m\u001b[1;33m\u001b[0m\u001b[0m\n\u001b[0m\u001b[0;32m    365\u001b[0m \u001b[1;33m\u001b[0m\u001b[0m\n\u001b[0;32m    366\u001b[0m     \u001b[1;32mdef\u001b[0m \u001b[0m_handle_response\u001b[0m\u001b[1;33m(\u001b[0m\u001b[0mself\u001b[0m\u001b[1;33m,\u001b[0m \u001b[0mreq\u001b[0m\u001b[1;33m,\u001b[0m \u001b[0muri\u001b[0m\u001b[1;33m,\u001b[0m \u001b[0marg_data\u001b[0m\u001b[1;33m,\u001b[0m \u001b[0m_timeout\u001b[0m\u001b[1;33m=\u001b[0m\u001b[1;32mNone\u001b[0m\u001b[1;33m)\u001b[0m\u001b[1;33m:\u001b[0m\u001b[1;33m\u001b[0m\u001b[1;33m\u001b[0m\u001b[0m\n",
      "\u001b[1;32m~\\anaconda3\\lib\\site-packages\\twitter\\api.py\u001b[0m in \u001b[0;36m_handle_response\u001b[1;34m(self, req, uri, arg_data, _timeout)\u001b[0m\n\u001b[0;32m    395\u001b[0m                     \u001b[1;31m# it seems like the data received was incomplete\u001b[0m\u001b[1;33m\u001b[0m\u001b[1;33m\u001b[0m\u001b[1;33m\u001b[0m\u001b[0m\n\u001b[0;32m    396\u001b[0m                     \u001b[1;31m# and we should catch it to allow retries\u001b[0m\u001b[1;33m\u001b[0m\u001b[1;33m\u001b[0m\u001b[1;33m\u001b[0m\u001b[0m\n\u001b[1;32m--> 397\u001b[1;33m                     \u001b[1;32mraise\u001b[0m \u001b[0mTwitterError\u001b[0m\u001b[1;33m(\u001b[0m\u001b[1;34m\"Incomplete JSON data collected for %s (%s): %s)\"\u001b[0m \u001b[1;33m%\u001b[0m \u001b[1;33m(\u001b[0m\u001b[0muri\u001b[0m\u001b[1;33m,\u001b[0m \u001b[0marg_data\u001b[0m\u001b[1;33m,\u001b[0m \u001b[0me\u001b[0m\u001b[1;33m)\u001b[0m\u001b[1;33m)\u001b[0m\u001b[1;33m\u001b[0m\u001b[1;33m\u001b[0m\u001b[0m\n\u001b[0m\u001b[0;32m    398\u001b[0m                 \u001b[1;32mreturn\u001b[0m \u001b[0mwrap_response\u001b[0m\u001b[1;33m(\u001b[0m\u001b[0mres\u001b[0m\u001b[1;33m,\u001b[0m \u001b[0mhandle\u001b[0m\u001b[1;33m.\u001b[0m\u001b[0mheaders\u001b[0m\u001b[1;33m)\u001b[0m\u001b[1;33m\u001b[0m\u001b[1;33m\u001b[0m\u001b[0m\n\u001b[0;32m    399\u001b[0m             \u001b[1;32melse\u001b[0m\u001b[1;33m:\u001b[0m\u001b[1;33m\u001b[0m\u001b[1;33m\u001b[0m\u001b[0m\n",
      "\u001b[1;31mTwitterError\u001b[0m: Incomplete JSON data collected for 1.1/search/tweets (count=1000&oauth_consumer_key=OxrKX0tyCgKnJUVa4f31j2GQI&oauth_nonce=13682801957679807979&oauth_signature_method=HMAC-SHA1&oauth_timestamp=1639492976&oauth_token=3313439336-HruZfbLk7sg1JBXfrQpHsLvulJkrTI7b1qX8J34&oauth_version=1.0&q=%23%E0%B8%9C%E0%B8%B9%E0%B9%89%E0%B8%A7%E0%B9%88%E0%B8%B2%E0%B8%81%E0%B8%97%E0%B8%A1&oauth_signature=rARDnRNQKCZGGeJoqyZOk0S70Gk%3D): Invalid \\uXXXX escape: line 1 column 619385 (char 619384))"
     ]
    }
   ],
   "source": [
    "since_id_old = 0\n",
    "since_id_new = start+count\n",
    "i=1\n",
    "\n",
    "while(since_id_new != since_id_old):\n",
    "    search_results = rest_api.search.tweets( count=count,q=q) #you can use both q and geocode\n",
    "    statuses = search_results[\"statuses\"]\n",
    "    since_id_new = statuses[-1]['id']\n",
    "    for statuse in statuses:\n",
    "        try:\n",
    "            #tweet_collection.insert_one(statuse)\n",
    "            print(statuse.id_str)\n",
    "            print(i, \"documents insert\")\n",
    "            i=i+1\n",
    "        except:\n",
    "            pass"
   ]
  },
  {
   "cell_type": "code",
   "execution_count": null,
   "metadata": {},
   "outputs": [],
   "source": []
  }
 ],
 "metadata": {
  "kernelspec": {
   "display_name": "Python 3",
   "language": "python",
   "name": "python3"
  },
  "language_info": {
   "codemirror_mode": {
    "name": "ipython",
    "version": 3
   },
   "file_extension": ".py",
   "mimetype": "text/x-python",
   "name": "python",
   "nbconvert_exporter": "python",
   "pygments_lexer": "ipython3",
   "version": "3.8.8"
  }
 },
 "nbformat": 4,
 "nbformat_minor": 2
}
